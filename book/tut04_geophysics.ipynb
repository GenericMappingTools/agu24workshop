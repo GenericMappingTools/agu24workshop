{
 "cells": [
  {
   "cell_type": "markdown",
   "id": "0caf70d8-a12d-4d62-ab8f-6d2f682640aa",
   "metadata": {
    "editable": true,
    "slideshow": {
     "slide_type": ""
    },
    "tags": []
   },
   "source": [
    "# **Tutorial 4** - Geophysics (Seismology) 🌎🌏🌍\n",
    "\n",
    "In this tutorial we will learn how to\n",
    "\n",
    " 1. Prepare **gridded data**: [`pygmt.xyz2grd`](https://www.pygmt.org/v0.13.0/api/generated/pygmt.xyz2grd.html)\n",
    " 2. Create a **contour map**: [`pygmt.Figure.grdcontour`](https://www.pygmt.org/v0.13.0/api/generated/pygmt.Figure.grdcontour.html)\n",
    " 3. Create a **profile plot**: [`pygmt.project`](https://www.pygmt.org/v0.13.0/api/generated/pygmt.project.html) and [`pygmt.grdtrack`](https://www.pygmt.org/v0.13.0/api/generated/pygmt.grdtrack.html)"
   ]
  },
  {
   "cell_type": "markdown",
   "id": "39eb835c-367d-4d44-8ff9-b55eec2a73bf",
   "metadata": {
    "editable": true,
    "slideshow": {
     "slide_type": ""
    },
    "tags": []
   },
   "source": [
    ":::{note}\n",
    "\n",
    "This tutorial is part of the AGU24 annual meeting GMT/PyGMT pre-conference workshop (PREWS9) **Mastering Geospatial Visualizations with GMT/PyGMT**\n",
    "- Website: https://www.generic-mapping-tools.org/agu24workshop\n",
    "- GitHub: https://github.com/GenericMappingTools/agu24workshop\n",
    "- Conference: https://agu.confex.com/agu/agu24/meetingapp.cgi/Session/226736\n",
    "\n",
    "History\n",
    "- Authors: [Jing-Hui Tong](https://orcid.org/0009-0002-7195-3071) and [Yvonne Fröhlich](https://orcid.org/0000-0002-8566-0619)\n",
    "- Created: November-December 2024\n",
    "- Recommended versions: [PyGMT v0.13.0](https://www.pygmt.org/v0.13.0) with [GMT 6.5.0](https://docs.generic-mapping-tools.org/6.5)\n",
    "\n",
    "Fee free to play around with these code examples 🚀. In case you found any kind of error, just report it by [opening an issue](https://github.com/GenericMappingTools/agu24workshop/issues) or [provide a fix via a pull request](https://github.com/GenericMappingTools/agu24workshop/pulls). Please use the [GMT forum](https://forum.generic-mapping-tools.org/) to ask questions.\n",
    "\n",
    ":::"
   ]
  },
  {
   "cell_type": "markdown",
   "id": "f56cbd63-a1bd-4e53-837c-13473e0db0d0",
   "metadata": {},
   "source": [
    "## 0️⃣ General stuff"
   ]
  },
  {
   "cell_type": "markdown",
   "id": "0541bce3-b928-4eff-9fde-1ad3da25f240",
   "metadata": {},
   "source": [
    "Import the required packages. Besides [`PyGMT`](https://www.pygmt.org/v0.13.0) we also use [`NumPy`](https://numpy.org/doc/stable/) and [`pandas`](https://pandas.pydata.org/)."
   ]
  },
  {
   "cell_type": "code",
   "execution_count": null,
   "id": "60f6a029-c037-4c8c-af4d-6e5a8af22c27",
   "metadata": {},
   "outputs": [],
   "source": [
    "import numpy as np\n",
    "import pandas as pd\n",
    "import pygmt\n",
    "\n",
    "# Use a resolution of only 150 dpi for the images within the Jupyter notebook, to keep the file small\n",
    "img_dpi = 150"
   ]
  },
  {
   "cell_type": "markdown",
   "id": "22e12c23-d01b-4c9f-91ca-0d9d1ed07409",
   "metadata": {},
   "source": [
    "## 1️⃣ Prepare gridded data: [`pygmt.xyz2grd`](https://www.pygmt.org/v0.13.0/api/generated/pygmt.xyz2grd.html)\n",
    "\n",
    "Sometimes, spatial (regional or global) data is provided as tabular data (.txt or .csv files) containing x, y, and z columns."
   ]
  },
  {
   "cell_type": "code",
   "execution_count": null,
   "id": "1e382711-cd28-4044-a4a4-03c79b2ad6a1",
   "metadata": {},
   "outputs": [],
   "source": [
    "# Reading file\n",
    "data = np.loadtxt(\"south_america_topography_05m.txt\")\n",
    "\n",
    "print(type(data))\n",
    "data"
   ]
  },
  {
   "cell_type": "markdown",
   "id": "0d4cd55b-90e3-4473-b53a-ac2c53c8d7d5",
   "metadata": {
    "editable": true,
    "slideshow": {
     "slide_type": ""
    },
    "tags": []
   },
   "source": [
    "We have to convert the `numpy.ndarray` to a GMT-ready grid via [`pygmt.xyz2grd`](https://www.pygmt.org/v0.13.0/api/generated/pygmt.xyz2grd.html). Therefore, you need to provide:\n",
    "\n",
    "1. `data` or `x`, `y`, `z`: Input text file. Importantly, if you use `data`, the columns order must be longitude, latitude, and data. Otherwise, you should use `x`, `y`, and `z` to individually define the dataset. \n",
    "2. `region`: Specifies the grid's geographical region in the form `[lon_min, lon_max, lat_min, lat_max]`.\n",
    "3. `spacing`: Grid spacing for the output grid. In our case, the spacing of original dataset is `5m` (5 arc-minutes), we do not interpolate to better resolution, otherwise, it might cause data distortion. "
   ]
  },
  {
   "cell_type": "code",
   "execution_count": null,
   "id": "db1ca43e-7b27-4e48-aee1-646cd00f75bf",
   "metadata": {},
   "outputs": [],
   "source": [
    "region = [-90, -60, -40, 0]\n",
    "\n",
    "grid = pygmt.xyz2grd(data=data, spacing=\"5m\", region=region)"
   ]
  },
  {
   "cell_type": "markdown",
   "id": "c3e53ce1-20e4-4ede-8d88-fdd95350e77e",
   "metadata": {},
   "source": [
    "We can get some information about the grid using [`pygmt.grdinfo`](https://www.pygmt.org/v0.13.0/api/generated/pygmt.grdinfo.html):"
   ]
  },
  {
   "cell_type": "code",
   "execution_count": null,
   "id": "729e8a9e-2896-426a-b321-468486597f80",
   "metadata": {},
   "outputs": [],
   "source": [
    "print(pygmt.grdinfo(grid))"
   ]
  },
  {
   "cell_type": "markdown",
   "id": "3d08000c-7ac9-4899-bd3f-2006280d02d1",
   "metadata": {},
   "source": [
    "In PyGMT, the grid is stored in an [`xarray.DataArray`](https://docs.xarray.dev/en/v2024.09.0/generated/xarray.DataArray.html):"
   ]
  },
  {
   "cell_type": "code",
   "execution_count": null,
   "id": "493f5bba-0769-4d52-88a6-41cb79557b6f",
   "metadata": {
    "editable": true,
    "slideshow": {
     "slide_type": ""
    },
    "tags": []
   },
   "outputs": [],
   "source": [
    "grid"
   ]
  },
  {
   "cell_type": "markdown",
   "id": "0b238bef-3018-4bdc-92f8-9caa888a2c32",
   "metadata": {
    "editable": true,
    "slideshow": {
     "slide_type": ""
    },
    "tags": []
   },
   "source": [
    "## 2️⃣ Create a contour map: [`pygmt.Figure.grdcontour`](https://www.pygmt.org/v0.13.0/api/generated/pygmt.Figure.grdcontour.html)\n",
    "To plot grids or images as contour lines you can use [`pygmt.Figure.grdcontour`](https://www.pygmt.org/v0.13.0/api/generated/pygmt.Figure.grdcontour.html). You need to define:\n",
    "\n",
    "1. `grid`: Access the remote datasets or provide your dataset as an [`xarray.DataArray`](https://docs.xarray.dev/en/v2024.09.0/generated/xarray.DataArray.html).\n",
    "2. `level`: Specify the contour intervals to generate; for example, a value of 1000 means plotting contour lines at every 1000 m.\n",
    "3. `annotation`: Annotate contour levels.\n",
    "4. `limit`: Draw contours below low or above high, e.g., [-4000, 0] means drawing contour lines below sea level and above -4000 m.\n",
    "\n",
    "Before we plot the grid as contour lines, we plot the grid with color-coding using [`pygmt.Figure.grdimage`](https://www.pygmt.org/v0.13.0/api/generated/pygmt.Figure.grdimage.html). Via the `shading` parameter, we can apply an illumination to the grid or image, which can help to create visually appealing maps. By passing the argument **+a**, we use an azimuth of -45 degrees. Run the next code cell twice, first without and second with illumination, to see the difference. For a more complicated illumination, please refer to [`pygmt.grdgradient`](https://www.pygmt.org/v0.13.0/api/generated/pygmt.grdgradient.html), which was already introduced in [Tutorial 3](../tut03_spe_xarray)."
   ]
  },
  {
   "cell_type": "code",
   "execution_count": null,
   "id": "3b86d6d0-4513-4053-9cc8-2240f0971809",
   "metadata": {},
   "outputs": [],
   "source": [
    "fig = pygmt.Figure()\n",
    "fig.basemap(projection=\"M10c\", region=region, frame=\"a10f5\")\n",
    "\n",
    "pygmt.makecpt(cmap=\"SCM/oleron\", series=[-7000, 7000], transparency=25)\n",
    "fig.colorbar(frame=[\"xa2000f1000+lElevation\", \"y+lm\"])\n",
    "\n",
    "fig.grdimage(grid=grid, cmap=True, transparency=25)\n",
    "# Apply an illumination to the grid or image via the \"shading\" parameter\n",
    "# fig.grdimage(grid=grid, cmap=True, transparency=25, shading=\"+a\")\n",
    "\n",
    "fig.grdcontour(\n",
    "    grid=grid,\n",
    "    annotation=\"1000+fgray20\",\n",
    "    levels=1000,\n",
    "    limit=[-4000, 0],\n",
    "    pen=\"0.5p,white\",\n",
    ")\n",
    "\n",
    "fig.show(dpi=img_dpi)"
   ]
  },
  {
   "cell_type": "markdown",
   "id": "6b81c889-71b7-4009-bf93-448c37c188a7",
   "metadata": {},
   "source": [
    "## 3️⃣ Create a profile plot: [`pygmt.project`](https://www.pygmt.org/v0.13.0/api/generated/pygmt.project.html) and [`pygmt.grdtrack`](https://www.pygmt.org/v0.13.0/api/generated/pygmt.grdtrack.html) "
   ]
  },
  {
   "cell_type": "markdown",
   "id": "97b3f31a-62ff-4969-adbc-1d517ec4dd25",
   "metadata": {},
   "source": [
    "### 3.1 Choose a profile\n",
    "\n",
    "First, we choose a profile or survey line within our study area and plot it on top of our geographic map."
   ]
  },
  {
   "cell_type": "code",
   "execution_count": null,
   "id": "4c71f7d2-096b-4aad-8719-5b69e701578c",
   "metadata": {},
   "outputs": [],
   "source": [
    "# Set start and end points of the survey line\n",
    "start_x = -85  # Longitude in degrees East\n",
    "start_y = -20  # Latitude in degrees North\n",
    "end_x = -62\n",
    "end_y = -20\n",
    "\n",
    "# Plot the survey line\n",
    "fig.plot(x=[start_x, end_x], y=[start_y, end_y], pen=\"1p,red\")\n",
    "\n",
    "# Mark start and end points with labels\n",
    "fig.text(\n",
    "    x=[start_x, end_x],\n",
    "    y=[start_y, end_y],\n",
    "    text=[\"A\", \"A'\"],\n",
    "    offset=\"0c/0.3c\",\n",
    "    font=\"10p,Helvetica-Bold,white\",\n",
    "    fill=\"red\",\n",
    ")\n",
    "\n",
    "fig.show(dpi=img_dpi)"
   ]
  },
  {
   "cell_type": "markdown",
   "id": "62324d18-1eea-4849-adde-cf37f2dc7333",
   "metadata": {},
   "source": [
    "### 3.2 [`pygmt.project`](https://www.pygmt.org/v0.13.0/api/generated/pygmt.project.html)\n",
    "\n",
    "[`pygmt.project`](https://www.pygmt.org/v0.13.0/api/generated/pygmt.project.html) is designed to sample points along a great circle, a straight line, or across specified distance. In our case, we will create a profile point-to-point. Therefore you need to define: \n",
    "\n",
    "1. `center` and `endpoint`: Specify the start and end coordinates of the profile.\n",
    "2. `generate`: Distance interval of each point, e.g., `10` means points are generated every 10 degrees along the profile. \n",
    "3. `unit` (option): By default, `unit=False`, the distances of points along the profile are measured in degrees. When `unit=True` is used, it specifies that the distances are generated in kilometers."
   ]
  },
  {
   "cell_type": "code",
   "execution_count": null,
   "id": "79b935a2-0a85-41db-869c-c09d1db83903",
   "metadata": {},
   "outputs": [],
   "source": [
    "track_df = pygmt.project(\n",
    "    center=[start_x, start_y],\n",
    "    endpoint=[end_x, end_y],\n",
    "    # Output data in steps of 1 km with setting unit=True\n",
    "    generate=\"1\",\n",
    "    unit=True,\n",
    ")\n",
    "track_df.head()"
   ]
  },
  {
   "cell_type": "markdown",
   "id": "726a698e-d29b-46a9-8837-394fa2e68d80",
   "metadata": {},
   "source": [
    "**Note**: The output format is a `pandas.DataFrame`, and **r** and **s** together provide the geographic coordinates (longitude, latitude) of each point along the track, while **p** gives the cumulative distance along the profile up to each point."
   ]
  },
  {
   "cell_type": "markdown",
   "id": "c8fcbea7-49e7-4ef2-adc5-1340779c50d4",
   "metadata": {},
   "source": [
    "### 3.3 [`pygmt.grdtrack`](https://www.pygmt.org/v0.13.0/api/generated/pygmt.grdtrack.html)\n",
    "\n",
    "Then, we use [`pygmt.grdtrack`](https://www.pygmt.org/v0.13.0/api/generated/pygmt.grdtrack.html) to sample topographic (or other grid-based data) values along a profile that you generated using [`pygmt.project`](https://www.pygmt.org/v0.13.0/api/generated/pygmt.project.html). This allows you to retrieve data from a grid file along a specified path. Therefore, you need to provide:\n",
    "\n",
    "1. `grid`: Specify the grid file (e.g., a topographic grid) from which data will be sampled.\n",
    "2. `points`: Provide the coordinates of the profile points.\n",
    "3. `newcolname`: Name for the new column with the sampled values."
   ]
  },
  {
   "cell_type": "code",
   "execution_count": null,
   "id": "ec805db9-5033-48de-b82b-76c7f25d53fd",
   "metadata": {},
   "outputs": [],
   "source": [
    "# Extract the elevation at the generated points from the downloaded grid\n",
    "# and add it as new column \"elevation\" to the pandas.DataFrame\n",
    "track_df = pygmt.grdtrack(grid=grid, points=track_df, newcolname=\"elevation\")\n",
    "track_df.head()"
   ]
  },
  {
   "cell_type": "markdown",
   "id": "9ad1a7a5-8680-440b-8692-7c6e94d0fd65",
   "metadata": {},
   "source": [
    "**Note**: The new column is **elevation** to indicate the elevation variation along the profile.\n",
    "\n",
    "We can observe the minimum and maximum of this elevation data."
   ]
  },
  {
   "cell_type": "code",
   "execution_count": null,
   "id": "7839c604-7542-4f12-93e5-6d03b1afdd0d",
   "metadata": {},
   "outputs": [],
   "source": [
    "print(min(track_df[\"elevation\"]), max(track_df[\"elevation\"]))"
   ]
  },
  {
   "cell_type": "markdown",
   "id": "3c122ebe-684e-48b3-b84a-82a61565166d",
   "metadata": {},
   "source": [
    "### 3.4 Create a Cartesian plot showing the elevation along the profile\n",
    "\n",
    "Now, we want to visualize the elevation along the profile in a Cartesian plot. Therefore, we add another panel to our figure. Use [`Figure.shift_origin`](https://www.pygmt.org/v0.13.0/api/generated/pygmt.Figure.shift_origin.html) to shift the plotting origin to the top of the geographic map and create a new basemap via [`Figure.basemap`](https://www.pygmt.org/v0.13.0/api/generated/pygmt.Figure.basemap.html)."
   ]
  },
  {
   "cell_type": "code",
   "execution_count": null,
   "id": "396f5b92-cc95-4366-a6f4-1724494e3993",
   "metadata": {},
   "outputs": [],
   "source": [
    "# Shift the plotting origin by the height (+h) of the geographic map plus 1.5 centimeters to the top\n",
    "fig.shift_origin(yshift=\"h+1.5c\")\n",
    "\n",
    "fig.basemap(\n",
    "    region=[0, max(track_df[\"p\"]), -7500, 5000],\n",
    "    # Cartesian projection with a width of 10 centimeters and a height of 3 centimeters\n",
    "    projection=\"X10c/3c\",\n",
    "    frame=[\"WSrt\", \"xa500f250+lDistance / km\", \"ya2500+lElevation / m\"],\n",
    ")\n",
    "\n",
    "fig.text(\n",
    "    x=[0, max(track_df[\"p\"])],\n",
    "    y=[5000, 5000],\n",
    "    text=[\"A\", \"A'\"],\n",
    "    offset=\"0c/0.3c\",\n",
    "    no_clip=True,  # Do not clip text that fall outside the plot bounds\n",
    "    font=\"10p,Helvetica-Bold,white\",\n",
    "    fill=\"red\",\n",
    ")\n",
    "\n",
    "fig.show(dpi=img_dpi)"
   ]
  },
  {
   "cell_type": "markdown",
   "id": "833bb3c5-70b7-4090-9418-26f19ae994a8",
   "metadata": {},
   "source": [
    "Plotting the elevation along the profile and coloring ocean and land in lightblue and lightgray, respectively:"
   ]
  },
  {
   "cell_type": "code",
   "execution_count": null,
   "id": "ff948b65-69eb-4a94-98d4-0518a82c0844",
   "metadata": {},
   "outputs": [],
   "source": [
    "# Plot water masses\n",
    "fig.plot(\n",
    "    x=[0, max(track_df[\"p\"])],\n",
    "    y=[0, 0],\n",
    "    fill=\"lightblue\",  # Fill the polygon in \"lightblue\"\n",
    "    close=\"+y-7500\",  # Force closed polygon\n",
    ")\n",
    "\n",
    "# Plot elevation along the profile and plot land masses\n",
    "fig.plot(\n",
    "    x=track_df[\"p\"],\n",
    "    y=track_df[\"elevation\"],\n",
    "    fill=\"lightgray\",  # Fill the polygon in \"lightgray\"\n",
    "    pen=\"1p,red,solid\",  # Draw a 1-point thick, red, solid outline\n",
    "    close=\"+y-7500\",  # Force closed polygon\n",
    ")\n",
    "\n",
    "fig.show(dpi=img_dpi)"
   ]
  },
  {
   "cell_type": "markdown",
   "id": "4abb07a2-d9d7-4b8b-abd9-50349b3f9392",
   "metadata": {},
   "source": [
    "## 4️⃣ Add additional features\n",
    "\n",
    "Finally, you can add additional features on top of the geographic map. Feel free to include your own ideas here! Here are a few ideas what you can try:\n",
    "\n",
    "- **Highlight a specific earthquake as beachball**: See subsection 4.1\n",
    "- **Plot the seismicity**: See subsection 4.2\n",
    "- **Mark the subduction zone**: Use a so-called line front to indicate the fault, use the Gallery example [Line fronts](https://www.pygmt.org/v0.13.0/gallery/lines/linefronts.html) for an orientation\n",
    "- **Include the plate motion**: Use an arrow to indicate direction and speed; use the Gallery example [Cartesian, circular, and geographic vectors](https://www.pygmt.org/v0.13.0/gallery/lines/vector_styles.html) for an orientation"
   ]
  },
  {
   "cell_type": "code",
   "execution_count": null,
   "id": "c469f718-3dcb-4bbc-8ef5-be112baa7915",
   "metadata": {},
   "outputs": [],
   "source": [
    "# Move plotting origin back to the geographic map at the top\n",
    "fig.shift_origin(yshift=\"-16c\")  # Manually adjusted\n",
    "\n",
    "# Use the same projection and region we have used at the beginning for the geographic map\n",
    "fig.basemap(projection=\"M10c\", region=region, frame=\"rltb\")"
   ]
  },
  {
   "cell_type": "markdown",
   "id": "9555746e-d7a6-4aad-946b-c2190f3e280b",
   "metadata": {},
   "source": [
    "### 4.1 Add a beachball \n",
    "\n",
    "A specific earthquake can be plotted as a beachballs to represent the focal mechanism. Here, we look at the Esmeraldas earthquake on 2022/03/27 at 04:28:12 (UTC) as an example. The data were retrieved from USGS."
   ]
  },
  {
   "cell_type": "markdown",
   "id": "3c5c1c4c-c63f-4ee2-96cc-7ba74595f228",
   "metadata": {},
   "source": [
    "First we, store the focal mechanism parameters in a dictionary based on the Aki & Richards convention:"
   ]
  },
  {
   "cell_type": "code",
   "execution_count": null,
   "id": "9cb8e61e-4c4e-442c-8f0f-c39f237e5357",
   "metadata": {},
   "outputs": [],
   "source": [
    "focal_mechanism = {\"strike\": 116, \"dip\": 80, \"rake\": 74, \"magnitude\": 5.8}"
   ]
  },
  {
   "cell_type": "markdown",
   "id": "7a6033f8-0b54-4b71-9029-0d0a9c19729c",
   "metadata": {},
   "source": [
    "Plot the focal mechanism of this earthquake as a beachball on top of the map. Therefore, we pass the focal mechanism data to the `spec` parameter of [`pygmt.Figure.meca`](https://www.pygmt.org/v0.13.0/api/generated/pygmt.Figure.meca.html). In addition, you have to provide scale, event location, and event depth."
   ]
  },
  {
   "cell_type": "code",
   "execution_count": null,
   "id": "59a1806b-2be4-4eee-ab3f-895c7057e423",
   "metadata": {},
   "outputs": [],
   "source": [
    "fig.meca(\n",
    "    spec=focal_mechanism,\n",
    "    scale=\"1c\",  # in centimeters\n",
    "    longitude=-79.611,  # event location\n",
    "    latitude=-0.904,\n",
    "    depth=19,  # in kilometers\n",
    "    # Fill compressive quadrants with color \"darkorange\" [Default is \"black\"]\n",
    "    compressionfill=\"darkorange\",\n",
    "    # Fill extensive quadrants with color \"cornsilk\" [Default is \"white\"]\n",
    "    extensionfill=\"cornsilk\",\n",
    "    # Draw a 0.5-points thick, darkgray (\"gray30\") solid outline via the pen parameter\n",
    "    # [Default is \"0.25p,black,solid\"]\n",
    "    pen=\"0.5p,gray30,solid\",\n",
    "    # Shift plotting location from event location\n",
    "    plot_longitude=-70,\n",
    "    plot_latitude=-3,\n",
    "    # Add a connection line between the plotting and event locations\n",
    "    offset=\"+p0.1p,orange+s0.2c\",\n",
    ")\n",
    "\n",
    "fig.show(dpi=img_dpi)"
   ]
  },
  {
   "cell_type": "markdown",
   "id": "8f01e1f3-1088-4c8a-99fe-f6fa7245fab2",
   "metadata": {},
   "source": [
    "### 4.2 Add the seismicity\n",
    "\n",
    "We provide data for the seismicity between 2022-01-01 and 2023-01-01 as a CSV file within this repository or tutorial. These data were retrieved via [ObsPy](https://docs.obspy.org/) using the `client.get_events` function:\n",
    "\n",
    "> t1 = UTCDateTime(\"2022-01-01\"); t2 = UTCDateTime(\"2022-06-30\")\n",
    "> \n",
    "> catalog = client.get_events(starttime=t1, endtime=t2, minmagnitude=4, minlatitude=-40, maxlatitude=0, minlongitude=-90, maxlongitude=-60)"
   ]
  },
  {
   "cell_type": "markdown",
   "id": "4615e747-493e-456f-b113-478b9c0231f4",
   "metadata": {},
   "source": [
    "First, we read the data into a `pandas.DataFrame` and have a look at the data."
   ]
  },
  {
   "cell_type": "code",
   "execution_count": null,
   "id": "318e5077-b077-4fd1-99ba-3a741213e9e5",
   "metadata": {},
   "outputs": [],
   "source": [
    "df = pd.read_csv(\"seismicity_2022.csv\")\n",
    "df.head()"
   ]
  },
  {
   "cell_type": "markdown",
   "id": "6045a8e9-a83a-4ee3-bd32-0c7a1587b861",
   "metadata": {},
   "source": [
    "Explore the dataset. Get the value ranges of the hypocentral depth and magnitude."
   ]
  },
  {
   "cell_type": "code",
   "execution_count": null,
   "id": "39f35019-e309-4532-a5db-be5ce4ff41b9",
   "metadata": {},
   "outputs": [],
   "source": [
    "# Your code (:"
   ]
  },
  {
   "cell_type": "markdown",
   "id": "38d84145-c9bb-4de3-a05f-8fbb71a35a75",
   "metadata": {
    "editable": true,
    "slideshow": {
     "slide_type": ""
    },
    "tags": []
   },
   "source": [
    "Now we split the dataset into two datasets based on the magnitude. Feel free to try different limits or build another subset!"
   ]
  },
  {
   "cell_type": "code",
   "execution_count": null,
   "id": "c352a049-c4b3-4d18-9461-6a9767a4ded5",
   "metadata": {},
   "outputs": [],
   "source": [
    "lim_mag = 6\n",
    "\n",
    "df_low_mag = df[df[\"mag\"] < lim_mag]\n",
    "df_high_mag = df[df[\"mag\"] >= lim_mag]"
   ]
  },
  {
   "cell_type": "markdown",
   "id": "99d1d66d-b972-401a-8908-7a5783cae189",
   "metadata": {},
   "source": [
    "Now you can plot the earthquakes of the two datasets on top of our map, e.g., using circles for the events with lower and stars for the events with higher magnitude. Additionally, you can add color- and size-coding to include epicentral distance and magnitude of the earthquakes. Take a look at what you have learned in [Tutorial 2](../tut02_spe_pd_gpd) 🙂 and the PyGMT Tutorial [Plotting data points](https://www.pygmt.org/v0.13.0/tutorials/basics/plot.html) as an orientation."
   ]
  },
  {
   "cell_type": "code",
   "execution_count": null,
   "id": "25acf387-3cfe-44d1-b70a-be28dcc11395",
   "metadata": {
    "editable": true,
    "slideshow": {
     "slide_type": ""
    },
    "tags": []
   },
   "outputs": [],
   "source": [
    "# Your code (:"
   ]
  },
  {
   "cell_type": "markdown",
   "id": "885ad8a2-b4f2-4b8d-8cc3-13c7116600bf",
   "metadata": {},
   "source": [
    "## 5️⃣ Additional comments\n",
    "\n",
    "Some helpful and interesting aspects:\n",
    "\n",
    "- Use suitable colormaps for your data: [**Scientific colourmaps by Fabio Crameri**](https://www.fabiocrameri.ch/colourmaps/), see also the publications [Crameri et al. (2024)](https://doi.org/10.1002/cpz1.1126) and [Crameri et al. (2020)](https://doi.org/10.1038/s41467-020-19160-7)"
   ]
  },
  {
   "cell_type": "markdown",
   "id": "cd146118-8218-433a-8e5d-b7d6153a37fb",
   "metadata": {},
   "source": [
    "## 6️⃣ Orientation / suggestion for \"4.2 Add seismicity\"\n",
    "\n",
    "Below you find a rough code shipset for plotting the subsets of the earthquake dataset in section 4.1. Note the logarithmic scaling of size of the symbols as the size is referring to the magnitude of the earthquakes."
   ]
  },
  {
   "cell_type": "code",
   "execution_count": null,
   "id": "6d906c77-5880-4895-b1ab-9b8b9206bd00",
   "metadata": {},
   "outputs": [],
   "source": [
    "pygmt.makecpt(cmap=\"SCM/acton\", series=[0, 500], reverse=True)\n",
    "\n",
    "fig.plot(\n",
    "    x=df_low_mag[\"lon\"],\n",
    "    y=df_low_mag[\"lat\"],\n",
    "    style=\"cc\",  # Plot circles (fist \"c\") in centimeters (second \"c\")\n",
    "    size=np.log10(df_low_mag[\"mag\"]) / 4,  # size varies based on magnitude\n",
    "    fill=df_low_mag[\"depth\"],\n",
    "    cmap=True,\n",
    "    pen=\"0.1p,black\",\n",
    ")\n",
    "\n",
    "fig.plot(\n",
    "    x=df_high_mag[\"lon\"],\n",
    "    y=df_high_mag[\"lat\"],\n",
    "    style=\"ac\",  # Plot stars (\"a\") in centimeters (\"c\")\n",
    "    size=np.log10(df_high_mag[\"mag\"]),\n",
    "    fill=df_high_mag[\"depth\"],\n",
    "    cmap=True,\n",
    "    pen=\"0.5p,black\",\n",
    ")\n",
    "\n",
    "fig.colorbar(\n",
    "    position=\"x0.5c/0.5c+w4.5c/0.25c+v+mc+ef0.2c\",\n",
    "    frame=[\"a100f50+lHypocentral depth\", \"y+lkm\"],\n",
    "    box=\"+gwhite@30\",\n",
    ")\n",
    "\n",
    "fig.show(dpi=img_dpi)"
   ]
  }
 ],
 "metadata": {
  "kernelspec": {
   "display_name": "Python 3 (ipykernel)",
   "language": "python",
   "name": "python3"
  },
  "language_info": {
   "codemirror_mode": {
    "name": "ipython",
    "version": 3
   },
   "file_extension": ".py",
   "mimetype": "text/x-python",
   "name": "python",
   "nbconvert_exporter": "python",
   "pygments_lexer": "ipython3",
   "version": "3.12.7"
  }
 },
 "nbformat": 4,
 "nbformat_minor": 5
}

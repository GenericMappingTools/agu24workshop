{
 "cells": [
  {
   "cell_type": "markdown",
   "id": "315a335b-1325-4319-aa06-cb1b239616b8",
   "metadata": {},
   "source": [
    "# Tutorial 4 - Geophysics (Seismology)\n",
    "\n",
    "In this tutorial we will learn how to\n",
    "\n",
    " 1. Prepare **gridded data**: [`pygmt.xyz2grd`](https://www.pygmt.org/v0.13.0/api/generated/pygmt.grd2xyz.html)\n",
    " 2. Create a **contour map**: [`pygmt.Figure.grdcontour`](https://www.pygmt.org/v0.13.0/api/generated/pygmt.Figure.grdcontour.html)\n",
    " 3. Create a **profile plot**: [`pygmt.grdproject`](https://www.pygmt.org/v0.13.0/api/generated/pygmt.grdproject.html) and [`pygmt.grdtrack`](https://www.pygmt.org/v0.13.0/api/generated/pygmt.grdtrack.html)"
   ]
  },
  {
   "cell_type": "markdown",
   "id": "f56cbd63-a1bd-4e53-837c-13473e0db0d0",
   "metadata": {},
   "source": [
    "## 0. General stuff"
   ]
  },
  {
   "cell_type": "markdown",
   "id": "0541bce3-b928-4eff-9fde-1ad3da25f240",
   "metadata": {},
   "source": [
    "Import required packages"
   ]
  },
  {
   "cell_type": "code",
   "execution_count": 1,
   "id": "60f6a029-c037-4c8c-af4d-6e5a8af22c27",
   "metadata": {},
   "outputs": [],
   "source": [
    "import numpy as np\n",
    "import pygmt"
   ]
  },
  {
   "cell_type": "markdown",
   "id": "22e12c23-d01b-4c9f-91ca-0d9d1ed07409",
   "metadata": {},
   "source": [
    "## 1. Prepare gridded data: [`pygmt.xyz2grd`](https://www.pygmt.org/v0.13.0/api/generated/pygmt.grd2xyz.html)\n"
   ]
  },
  {
   "cell_type": "code",
   "execution_count": null,
   "id": "58207730-2ca4-4b9a-867f-57d1bbd7c1ce",
   "metadata": {},
   "outputs": [],
   "source": []
  },
  {
   "cell_type": "markdown",
   "id": "0b238bef-3018-4bdc-92f8-9caa888a2c32",
   "metadata": {},
   "source": [
    "## 2. Create a contour map: [`pygmt.Figure.grdcontour`](https://www.pygmt.org/v0.13.0/api/generated/pygmt.Figure.grdcontour.html)\n"
   ]
  },
  {
   "cell_type": "code",
   "execution_count": null,
   "id": "3b86d6d0-4513-4053-9cc8-2240f0971809",
   "metadata": {},
   "outputs": [],
   "source": []
  },
  {
   "cell_type": "markdown",
   "id": "6b81c889-71b7-4009-bf93-448c37c188a7",
   "metadata": {},
   "source": [
    "## 3. Create a profile plot: [`pygmt.grdproject`](https://www.pygmt.org/v0.13.0/api/generated/pygmt.grdproject.html) and [`pygmt.grdtrack`](https://www.pygmt.org/v0.13.0/api/generated/pygmt.grdtrack.html)\n"
   ]
  },
  {
   "cell_type": "code",
   "execution_count": null,
   "id": "bd8f7cda-5f27-4d4f-90a5-20751d2a42a9",
   "metadata": {},
   "outputs": [],
   "source": []
  },
  {
   "cell_type": "markdown",
   "id": "d1b3e114-1ff0-4cec-b75a-649cdc16ddfe",
   "metadata": {},
   "source": [
    "### 4. References\n"
   ]
  },
  {
   "cell_type": "markdown",
   "id": "885ad8a2-b4f2-4b8d-8cc3-13c7116600bf",
   "metadata": {},
   "source": [
    "- xyz"
   ]
  }
 ],
 "metadata": {
  "kernelspec": {
   "display_name": "Python 3 (ipykernel)",
   "language": "python",
   "name": "python3"
  },
  "language_info": {
   "codemirror_mode": {
    "name": "ipython",
    "version": 3
   },
   "file_extension": ".py",
   "mimetype": "text/x-python",
   "name": "python",
   "nbconvert_exporter": "python",
   "pygments_lexer": "ipython3",
   "version": "3.12.6"
  }
 },
 "nbformat": 4,
 "nbformat_minor": 5
}

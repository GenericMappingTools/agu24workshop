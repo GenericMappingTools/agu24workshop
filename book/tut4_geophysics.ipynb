{
 "cells": [
  {
   "cell_type": "markdown",
   "id": "315a335b-1325-4319-aa06-cb1b239616b8",
   "metadata": {},
   "source": [
    "# **Tutorial 4** - Geophysics (Seismology)\n",
    "\n",
    "In this tutorial we will learn how to\n",
    "\n",
    " 1. Prepare **gridded data**: [`pygmt.xyz2grd`](https://www.pygmt.org/v0.13.0/api/generated/pygmt.grd2xyz.html)\n",
    " 2. Create a **contour map**: [`pygmt.Figure.grdcontour`](https://www.pygmt.org/v0.13.0/api/generated/pygmt.Figure.grdcontour.html)\n",
    " 3. Create a **profile plot**: [`pygmt.grdproject`](https://www.pygmt.org/v0.13.0/api/generated/pygmt.grdproject.html) and [`pygmt.grdtrack`](https://www.pygmt.org/v0.13.0/api/generated/pygmt.grdtrack.html)\n",
    "\n",
    "-----\n",
    "This tutorial is part of the AGU2024 annual meeting GMT/PyGMT pre-conference workshop (PREWS9) **Mastering Geospatial Visualizations with GMT/PyGMT**\n",
    "- Conference: https://agu.confex.com/agu/agu24/meetingapp.cgi/Session/226736\n",
    "- GitHub: https://github.com/GenericMappingTools/agu24workshop\n",
    "- Website: https://www.generic-mapping-tools.org/agu24workshop\n",
    "- Recommended version: PyGMT v0.13.0 with GMT 6.5.0"
   ]
  },
  {
   "cell_type": "markdown",
   "id": "f56cbd63-a1bd-4e53-837c-13473e0db0d0",
   "metadata": {},
   "source": [
    "## 0. General stuff"
   ]
  },
  {
   "cell_type": "markdown",
   "id": "0541bce3-b928-4eff-9fde-1ad3da25f240",
   "metadata": {},
   "source": [
    "Import the required packages. Besides [`PyGMT`](https://www.pygmt.org/v0.13.0) we also use [`NumPy`](https://numpy.org/doc/stable/)."
   ]
  },
  {
   "cell_type": "code",
   "execution_count": 1,
   "id": "60f6a029-c037-4c8c-af4d-6e5a8af22c27",
   "metadata": {},
   "outputs": [],
   "source": [
    "import pygmt\n",
    "\n",
    "import numpy as np"
   ]
  },
  {
   "cell_type": "markdown",
   "id": "22e12c23-d01b-4c9f-91ca-0d9d1ed07409",
   "metadata": {},
   "source": [
    "## 1. Prepare gridded data: [`pygmt.xyz2grd`](https://www.pygmt.org/v0.13.0/api/generated/pygmt.grd2xyz.html)\n"
   ]
  },
  {
   "cell_type": "code",
   "execution_count": null,
   "id": "58207730-2ca4-4b9a-867f-57d1bbd7c1ce",
   "metadata": {},
   "outputs": [],
   "source": []
  },
  {
   "cell_type": "markdown",
   "id": "0b238bef-3018-4bdc-92f8-9caa888a2c32",
   "metadata": {},
   "source": [
    "## 2. Create a contour map: [`pygmt.Figure.grdcontour`](https://www.pygmt.org/v0.13.0/api/generated/pygmt.Figure.grdcontour.html)\n"
   ]
  },
  {
   "cell_type": "code",
   "execution_count": null,
   "id": "3b86d6d0-4513-4053-9cc8-2240f0971809",
   "metadata": {},
   "outputs": [],
   "source": []
  },
  {
   "cell_type": "markdown",
   "id": "6b81c889-71b7-4009-bf93-448c37c188a7",
   "metadata": {},
   "source": [
    "## 3. Create a profile plot: [`pygmt.grdproject`](https://www.pygmt.org/v0.13.0/api/generated/pygmt.grdproject.html) and [`pygmt.grdtrack`](https://www.pygmt.org/v0.13.0/api/generated/pygmt.grdtrack.html)\n"
   ]
  },
  {
   "cell_type": "code",
   "execution_count": null,
   "id": "bd8f7cda-5f27-4d4f-90a5-20751d2a42a9",
   "metadata": {},
   "outputs": [],
   "source": []
  },
  {
   "cell_type": "markdown",
   "id": "4abb07a2-d9d7-4b8b-abd9-50349b3f9392",
   "metadata": {},
   "source": [
    "## 4. Add additional features"
   ]
  },
  {
   "cell_type": "code",
   "execution_count": null,
   "id": "2b2f6b39-0d55-43e7-b3a6-ca0176403da0",
   "metadata": {},
   "outputs": [],
   "source": []
  },
  {
   "cell_type": "markdown",
   "id": "885ad8a2-b4f2-4b8d-8cc3-13c7116600bf",
   "metadata": {},
   "source": [
    "## 5. Additional comments\n",
    "\n",
    "Some helpful and interesting aspects:\n",
    "\n",
    "- Use suitable colormaps for your data: [**Scientific colourmaps by Fabio Crameri**](https://www.fabiocrameri.ch/colourmaps/), see also the publications [Crameri et al. 2024](https://doi.org/10.1002/cpz1.1126) and [Crameri et al. 2020](https://doi.org/10.1038/s41467-020-19160-7)"
   ]
  }
 ],
 "metadata": {
  "kernelspec": {
   "display_name": "Python 3 (ipykernel)",
   "language": "python",
   "name": "python3"
  },
  "language_info": {
   "codemirror_mode": {
    "name": "ipython",
    "version": 3
   },
   "file_extension": ".py",
   "mimetype": "text/x-python",
   "name": "python",
   "nbconvert_exporter": "python",
   "pygments_lexer": "ipython3",
   "version": "3.12.6"
  }
 },
 "nbformat": 4,
 "nbformat_minor": 5
}

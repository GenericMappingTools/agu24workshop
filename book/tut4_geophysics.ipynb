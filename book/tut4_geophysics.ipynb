{
 "cells": [
  {
   "cell_type": "markdown",
   "id": "315a335b-1325-4319-aa06-cb1b239616b8",
   "metadata": {},
   "source": [
    "# **Tutorial 4** - Geophysics (Seismology)\n",
    "\n",
    "In this tutorial we will learn how to\n",
    "\n",
    " 1. Prepare **gridded data**: [`pygmt.xyz2grd`](https://www.pygmt.org/v0.13.0/api/generated/pygmt.grd2xyz.html)\n",
    " 2. Create a **contour map**: [`pygmt.Figure.grdcontour`](https://www.pygmt.org/v0.13.0/api/generated/pygmt.Figure.grdcontour.html)\n",
    " 3. Create a **profile plot**: [`pygmt.grdproject`](https://www.pygmt.org/v0.13.0/api/generated/pygmt.grdproject.html) and [`pygmt.grdtrack`](https://www.pygmt.org/v0.13.0/api/generated/pygmt.grdtrack.html)\n",
    "\n",
    "-----\n",
    "This tutorial is part of the AGU2024 annual meeting GMT/PyGMT pre-conference workshop (PREWS9) **Mastering Geospatial Visualizations with GMT/PyGMT**\n",
    "- Conference: https://agu.confex.com/agu/agu24/meetingapp.cgi/Session/226736\n",
    "- GitHub: https://github.com/GenericMappingTools/agu24workshop\n",
    "- Website: https://www.generic-mapping-tools.org/agu24workshop\n",
    "- Recommended version: PyGMT v0.13.0 with GMT 6.5.0"
   ]
  },
  {
   "cell_type": "markdown",
   "id": "f56cbd63-a1bd-4e53-837c-13473e0db0d0",
   "metadata": {},
   "source": [
    "## 0. General stuff"
   ]
  },
  {
   "cell_type": "markdown",
   "id": "0541bce3-b928-4eff-9fde-1ad3da25f240",
   "metadata": {},
   "source": [
    "Import the required packages. Besides [`PyGMT`](https://www.pygmt.org/v0.13.0) we also use [`NumPy`](https://numpy.org/doc/stable/)."
   ]
  },
  {
   "cell_type": "code",
   "execution_count": null,
   "id": "60f6a029-c037-4c8c-af4d-6e5a8af22c27",
   "metadata": {},
   "outputs": [],
   "source": [
    "import pygmt\n",
    "import numpy as np"
   ]
  },
  {
   "cell_type": "markdown",
   "id": "22e12c23-d01b-4c9f-91ca-0d9d1ed07409",
   "metadata": {},
   "source": [
    "## 1. Prepare gridded data: [`pygmt.xyz2grd`](https://www.pygmt.org/v0.13.0/api/generated/pygmt.grd2xyz.html)\n"
   ]
  },
  {
   "cell_type": "markdown",
   "id": "0b238bef-3018-4bdc-92f8-9caa888a2c32",
   "metadata": {},
   "source": [
    "## 2. Create a contour map: [`pygmt.Figure.grdcontour`](https://www.pygmt.org/v0.13.0/api/generated/pygmt.Figure.grdcontour.html)\n",
    "Convert grids or images to contours and plot them on maps\n",
    "\n",
    "you need to define:\n",
    "1. `grid`: Accessing the remote datasets or providing your dataset as ``xarray.DataArray``\n",
    "2. `level`: Specify the contour intervals to generate; for example, value of 1000 means plotting contour lines at every 1000 m.\n",
    "3. `annotation`: Annotated contour levels\n",
    "4. `limit`: Draw contours below low or above high, e.g, [-4000, 0] means drawing contour lines below sea level and above -4000 m."
   ]
  },
  {
   "cell_type": "code",
   "execution_count": null,
   "id": "3b86d6d0-4513-4053-9cc8-2240f0971809",
   "metadata": {},
   "outputs": [],
   "source": [
    "fig = pygmt.Figure()\n",
    "\n",
    "grid = pygmt.datasets.load_earth_relief(resolution=\"05m\", region=[-90, -60, -40, 0])\n",
    "cpt = pygmt.makecpt(cmap='earth', series=[-7000, 7000], continuous=True)\n",
    "\n",
    "fig.grdimage(grid=grid, cmap=cpt, projection=\"M10c\", frame=['a10f5'])\n",
    "\n",
    "fig.grdcontour(grid=grid, annotation=2000, levels=1000, limit=[-4000, 0], pen='0.5p,white')\n",
    "\n",
    "fig.colorbar(frame=[\"x+lElevation\", \"y+lm\", 'a2000f1000'])\n",
    "fig.show()"
   ]
  },
  {
   "cell_type": "markdown",
   "id": "6b81c889-71b7-4009-bf93-448c37c188a7",
   "metadata": {},
   "source": [
    "## 3. Create a profile plot: [`pygmt.grdproject`](https://www.pygmt.org/v0.13.0/api/generated/pygmt.grdproject.html) and [`pygmt.grdtrack`](https://www.pygmt.org/v0.13.0/api/generated/pygmt.grdtrack.html)\n",
    "\n",
    "\n",
    "### need to add "
   ]
  },
  {
   "cell_type": "code",
   "execution_count": null,
   "id": "4c71f7d2-096b-4aad-8719-5b69e701578c",
   "metadata": {},
   "outputs": [],
   "source": [
    "start_x = -85\n",
    "start_y = -20\n",
    "end_x = -62\n",
    "end_y= -20"
   ]
  },
  {
   "cell_type": "code",
   "execution_count": null,
   "id": "bd8f7cda-5f27-4d4f-90a5-20751d2a42a9",
   "metadata": {},
   "outputs": [],
   "source": [
    "\n",
    "# Choose a survey line\n",
    "fig.plot(\n",
    "    x=[start_x, end_x],  # Longitude in degrees East\n",
    "    y=[start_y, end_y],  # Latitude in degrees North\n",
    "    # Draw a 2-points thick red dashed line for the survey line\n",
    "    pen=\"1p,red\",\n",
    ")\n",
    "\n",
    "fig.text(\n",
    "    x=[start_x, end_x],  # Longitude in degrees East\n",
    "    y=[start_y, end_y],  # Latitude in degrees North\n",
    "    text=[\"A\", \"A'\"],\n",
    "    offset=\"0c/0.3c\", \n",
    "    font=\"10p,1,white\",\n",
    "    fill='red')\n",
    "\n",
    "\n",
    "fig.show()"
   ]
  },
  {
   "cell_type": "markdown",
   "id": "c35f60ee-ea58-4ef2-9abf-29714acd859e",
   "metadata": {},
   "source": [
    "### need to add "
   ]
  },
  {
   "cell_type": "code",
   "execution_count": null,
   "id": "79d623e8-231d-4283-a362-201ddaf6d20a",
   "metadata": {},
   "outputs": [],
   "source": [
    "# Generate points along a great circle corresponding to the survey line\n",
    "# and store them in a pandas.DataFrame\n",
    "track_df = pygmt.project(\n",
    "    center=f\"{start_x}/{start_y}\",  # Start point of survey line (longitude/latitude)\n",
    "    endpoint=f\"{end_x}/{end_y}\",  # End point of survey line (longitude/latitude)\n",
    "    generate=\"10\",  # Output data in steps of 10 km \n",
    "    unit=True\n",
    ")\n"
   ]
  },
  {
   "cell_type": "code",
   "execution_count": null,
   "id": "79b935a2-0a85-41db-869c-c09d1db83903",
   "metadata": {},
   "outputs": [],
   "source": [
    "track_df.head()"
   ]
  },
  {
   "cell_type": "markdown",
   "id": "726a698e-d29b-46a9-8837-394fa2e68d80",
   "metadata": {},
   "source": [
    "NOTE: in this DataFrame, \n",
    "\n",
    "**r**: \n",
    "\n",
    "**s**: \n",
    "\n",
    "**p**: \n"
   ]
  },
  {
   "cell_type": "markdown",
   "id": "c8fcbea7-49e7-4ef2-adc5-1340779c50d4",
   "metadata": {},
   "source": [
    "## need to add"
   ]
  },
  {
   "cell_type": "code",
   "execution_count": null,
   "id": "ec805db9-5033-48de-b82b-76c7f25d53fd",
   "metadata": {},
   "outputs": [],
   "source": [
    "# Extract the elevation at the generated points from the downloaded grid\n",
    "# and add it as new column \"elevation\" to the pandas.DataFrame\n",
    "track_df = pygmt.grdtrack(\n",
    "    grid=grid,\n",
    "    points=track_df,\n",
    "    newcolname=\"elevation\",\n",
    ")\n"
   ]
  },
  {
   "cell_type": "code",
   "execution_count": null,
   "id": "66e97670-ffad-4a4f-ad03-710f8194f78e",
   "metadata": {},
   "outputs": [],
   "source": [
    "track_df"
   ]
  },
  {
   "cell_type": "markdown",
   "id": "9ad1a7a5-8680-440b-8692-7c6e94d0fd65",
   "metadata": {},
   "source": [
    "Note: after applying ``grdtrack``, the new column is **elevation** to indicate the elevation variation along the track"
   ]
  },
  {
   "cell_type": "code",
   "execution_count": null,
   "id": "7839c604-7542-4f12-93e5-6d03b1afdd0d",
   "metadata": {},
   "outputs": [],
   "source": [
    "print(min(track_df.elevation),max(track_df.elevation))"
   ]
  },
  {
   "cell_type": "code",
   "execution_count": null,
   "id": "396f5b92-cc95-4366-a6f4-1724494e3993",
   "metadata": {},
   "outputs": [],
   "source": [
    "fig.shift_origin(yshift=\"15.7c\")\n",
    "\n",
    "fig.basemap(\n",
    "    region=[0, max(track_df.p), -7500, 5000],  # x_min, x_max, y_min, y_max\n",
    "    # Cartesian projection with a width of 12 centimeters and\n",
    "    # a height of 3 centimeters\n",
    "    projection=\"X10c/2c\",\n",
    "    # Add annotations (\"a\") and ticks (\"f\") as well as labels (\"+l\")\n",
    "    # at the west or left and south or bottom sides (\"WSrt\")\n",
    "    frame=[\"WSrt\", \"xa500f250+lDistance (km)\", \"ya2500+lElevation (m)\"],\n",
    ")\n",
    "\n",
    "fig.text(\n",
    "    x=[0, max(track_df.p)],\n",
    "    y=[5000, 5000],\n",
    "    text=[\"A\", \"A'\"],\n",
    "    offset='0c/0.3c',\n",
    "    no_clip=True,  # Do not clip text that fall outside the plot bounds\n",
    "    font=\"12p\",  # Use a font size of 10 points\n",
    ")\n",
    "\n",
    "fig.show()\n",
    "\n"
   ]
  },
  {
   "cell_type": "code",
   "execution_count": null,
   "id": "ff948b65-69eb-4a94-98d4-0518a82c0844",
   "metadata": {},
   "outputs": [],
   "source": [
    "# Plot water masses\n",
    "fig.plot(\n",
    "    x=[0, max(track_df.p)],\n",
    "    y=[0, 0],\n",
    "    fill=\"lightblue\",  # Fill the polygon in \"lightblue\"\n",
    "    # Draw a 0.25-points thick black solid outline\n",
    "    pen=\"0.25p,black,solid\",\n",
    "    close=\"+y-8000\",  # Force closed polygon\n",
    ")\n",
    "\n",
    "# Plot elevation along the survey line\n",
    "fig.plot(\n",
    "    x=track_df.p,\n",
    "    y=track_df.elevation,\n",
    "    fill=\"gray\",  # Fill the polygon in \"gray\"\n",
    "    # Draw a 1-point thick black solid outline\n",
    "    pen=\"1p,black,solid\",\n",
    "    close=\"+y-8000\",  # Force closed polygon\n",
    ")\n",
    "\n",
    "fig.show()"
   ]
  },
  {
   "cell_type": "markdown",
   "id": "4abb07a2-d9d7-4b8b-abd9-50349b3f9392",
   "metadata": {},
   "source": [
    "## 4. Add additional features"
   ]
  },
  {
   "cell_type": "code",
   "execution_count": null,
   "id": "2b2f6b39-0d55-43e7-b3a6-ca0176403da0",
   "metadata": {},
   "outputs": [],
   "source": []
  },
  {
   "cell_type": "markdown",
   "id": "885ad8a2-b4f2-4b8d-8cc3-13c7116600bf",
   "metadata": {},
   "source": [
    "## 5. Additional comments\n",
    "\n",
    "Some helpful and interesting aspects:\n",
    "\n",
    "- Use suitable colormaps for your data: [**Scientific colourmaps by Fabio Crameri**](https://www.fabiocrameri.ch/colourmaps/), see also the publications [Crameri et al. 2024](https://doi.org/10.1002/cpz1.1126) and [Crameri et al. 2020](https://doi.org/10.1038/s41467-020-19160-7)"
   ]
  }
 ],
 "metadata": {
  "kernelspec": {
   "display_name": "Python 3 (ipykernel)",
   "language": "python",
   "name": "python3"
  },
  "language_info": {
   "codemirror_mode": {
    "name": "ipython",
    "version": 3
   },
   "file_extension": ".py",
   "mimetype": "text/x-python",
   "name": "python",
   "nbconvert_exporter": "python",
   "pygments_lexer": "ipython3",
   "version": "3.12.2"
  }
 },
 "nbformat": 4,
 "nbformat_minor": 5
}

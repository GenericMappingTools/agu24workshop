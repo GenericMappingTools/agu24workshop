{
 "cells": [
  {
   "cell_type": "markdown",
   "id": "315a335b-1325-4319-aa06-cb1b239616b8",
   "metadata": {},
   "source": [
    "# Tutorial 2 - scientific Python ecosystem: `pandas` and `GeoPandas`\n",
    "\n",
    "In this tutorial we will learn using \n",
    "\n",
    " 1. `pandas` DataFrames\n",
    " 2. `GeoPandas` GeoDataFrames\n",
    "\n",
    "within PyGMT to create histograms and different maps."
   ]
  },
  {
   "cell_type": "markdown",
   "id": "f56cbd63-a1bd-4e53-837c-13473e0db0d0",
   "metadata": {},
   "source": [
    "## 0. General stuff"
   ]
  },
  {
   "cell_type": "markdown",
   "id": "0541bce3-b928-4eff-9fde-1ad3da25f240",
   "metadata": {},
   "source": [
    "Import required packages"
   ]
  },
  {
   "cell_type": "code",
   "execution_count": null,
   "id": "60f6a029-c037-4c8c-af4d-6e5a8af22c27",
   "metadata": {},
   "outputs": [],
   "source": [
    "import geopandas as gpd\n",
    "import numpy as np\n",
    "import pandas as pd\n",
    "import pygmt"
   ]
  },
  {
   "cell_type": "markdown",
   "id": "22e12c23-d01b-4c9f-91ca-0d9d1ed07409",
   "metadata": {},
   "source": [
    "## 1. `pandas`"
   ]
  },
  {
   "cell_type": "markdown",
   "id": "83b9b297-0fea-4e38-8745-17994d93d813",
   "metadata": {},
   "source": [
    "### 1.1 Data - `pandas.DataFrame`\n",
    "\n",
    "Use a data set with in provided together with `PyGMT` and load it into a `pandas.DataFrame`:"
   ]
  },
  {
   "cell_type": "code",
   "execution_count": null,
   "id": "58207730-2ca4-4b9a-867f-57d1bbd7c1ce",
   "metadata": {},
   "outputs": [],
   "source": [
    "df_jp_eqs = pygmt.datasets.load_sample_data(name=\"japan_quakes\")\n",
    "df_jp_eqs.head()"
   ]
  },
  {
   "cell_type": "markdown",
   "id": "8bf74452-3e78-4bce-a8db-4d0473d15eee",
   "metadata": {},
   "source": [
    "### 1.2 Create a histogram\n",
    "\n",
    "First we create a histogram for the moment magnitude distribution of the earthquakes."
   ]
  },
  {
   "cell_type": "code",
   "execution_count": null,
   "id": "1d5e868c-bf73-4b7f-8a46-d91751cc71c5",
   "metadata": {},
   "outputs": [],
   "source": [
    "# Choose the bin width of the bars; feel free to play around with this value\n",
    "mag_min = df_jp_eqs[\"magnitude\"].min()\n",
    "mag_max = df_jp_eqs[\"magnitude\"].max()\n",
    "step_histo = 0.2\n",
    "\n",
    "fig = pygmt.Figure()\n",
    "\n",
    "fig.histogram(\n",
    "    data=df_jp_eqs[\"magnitude\"],\n",
    "    projection=\"X10c\",\n",
    "    # Determine y range automatically\n",
    "    region=[mag_min - step_histo, mag_max + step_histo * 2, 0, 0],\n",
    "    # Define the frame, add labels to the x-axis and y-axis\n",
    "    frame=[\"WSne\", \"x+lmagnitude\", \"y+lcounts\"],\n",
    "    # Generate evenly spaced bins\n",
    "    series=step_histo,\n",
    "    # Fill bars with color \"orange\"\n",
    "    fill=\"orange\",\n",
    "    # Draw gray outlines with a width of 1 point\n",
    "    pen=\"1p,gray\",\n",
    "    # Choose histogram type 0, i.e., counts [Default]\n",
    "    histtype=0,\n",
    ")\n",
    "\n",
    "fig.show(dpi=150)"
   ]
  },
  {
   "cell_type": "markdown",
   "id": "0658236e-869c-417c-8f4a-0195025e9430",
   "metadata": {},
   "source": [
    "Use code example above as orientation, and create a similar histogram showing the hypocentral depth distribution of the earthquakes."
   ]
  },
  {
   "cell_type": "code",
   "execution_count": null,
   "id": "743d7a80-c5d4-46ca-820c-451eae825aa6",
   "metadata": {},
   "outputs": [],
   "source": [
    "# Your code (:"
   ]
  },
  {
   "cell_type": "markdown",
   "id": "b387494c-15ae-4019-83fc-bdf325f8a76d",
   "metadata": {},
   "source": [
    "### 1.3 Create a geographical map of the earthquakes\n",
    "\n",
    "For plotting the earthquakes as size (magnitude) and color (depth) coded circles ontop of a map please follow the tutorial at\n",
    "https://www.pygmt.org/v0.13.0/tutorials/basics/plot.html."
   ]
  },
  {
   "cell_type": "markdown",
   "id": "0b238bef-3018-4bdc-92f8-9caa888a2c32",
   "metadata": {},
   "source": [
    "## 2. `GeoPandas`\n",
    "\n",
    "Different datasets are available from: https://github.com/GenericMappingTools/pygmt/issues/2786#issuecomment-1787655589"
   ]
  },
  {
   "cell_type": "markdown",
   "id": "21b4748d-3fe1-4791-b233-2125bb40dde2",
   "metadata": {},
   "source": [
    "### 2.1 Line geometry\n",
    "\n",
    "Features which can be represented as a line geometry are for example rivers, roads or boundaries."
   ]
  },
  {
   "cell_type": "markdown",
   "id": "8ee81847-a26c-4bd7-a8ae-39a482f202fa",
   "metadata": {},
   "source": [
    "#### 2.1.1 Data - `geopandas.GeoDataFrame` with line geometry\n",
    "\n",
    "First we download some data into in GeoPandas GeoDataFrame."
   ]
  },
  {
   "cell_type": "code",
   "execution_count": null,
   "id": "d22d8f77-f73b-4a2a-be9a-9393c6693d2d",
   "metadata": {},
   "outputs": [],
   "source": [
    "gpd_rivers_org = gpd.read_file(\n",
    "    \"https://www.eea.europa.eu/data-and-maps/data/wise-large-rivers-and-large-lakes/\" + \\\n",
    "    \"zipped-shapefile-with-wise-large-rivers-vector-line/zipped-shapefile-with-wise-large-rivers-vector-line/\" + \\\n",
    "    \"at_download/file/wise_large_rivers.zip\"\n",
    ")\n",
    "gpd_rivers_org.head()"
   ]
  },
  {
   "cell_type": "markdown",
   "id": "f8db1757-f80d-4cc3-b650-83109eecc390",
   "metadata": {},
   "source": [
    "Convert to coordinate system / reference system"
   ]
  },
  {
   "cell_type": "code",
   "execution_count": null,
   "id": "cc67a58c-45f3-4819-9df4-04e5aa9d06f7",
   "metadata": {},
   "outputs": [],
   "source": [
    "gpd_rivers_org.crs\n",
    "gpd_rivers = gpd_rivers_org.to_crs('EPSG:4326')\n",
    "gpd_rivers.head()"
   ]
  },
  {
   "cell_type": "markdown",
   "id": "c6ed1e0c-3b1c-485a-9640-9e8098e573f1",
   "metadata": {},
   "source": [
    "#### 2.1.2 Create a geographical map of the rivers\n",
    "\n",
    "xxx"
   ]
  },
  {
   "cell_type": "code",
   "execution_count": null,
   "id": "250d19db-daaf-459d-b8b6-fba5752eec62",
   "metadata": {},
   "outputs": [],
   "source": [
    "fig = pygmt.Figure()\n",
    "\n",
    "fig.coast(\n",
    "    projection=\"M10c\", \n",
    "    region=[-10, 30, 35, 57],\n",
    "    land=\"gray99\",\n",
    "    shorelines=\"1/0.1p,gray50\",\n",
    "    frame=True,\n",
    ")\n",
    "\n",
    "fig.plot(data=gpd_rivers, pen=\"0.5p,steelblue,solid\")\n",
    "\n",
    "fig.show(dpi=150)"
   ]
  },
  {
   "cell_type": "markdown",
   "id": "94058ab7-657d-49b4-a8f5-2c1b8533a4a3",
   "metadata": {},
   "source": [
    "#### 2.1.3 Plot subsets of the rivers differently\n",
    "\n",
    "xxx"
   ]
  },
  {
   "cell_type": "code",
   "execution_count": null,
   "id": "9de1b7a9-0e87-4368-8df1-7064e7ac616c",
   "metadata": {},
   "outputs": [],
   "source": [
    "fig = pygmt.Figure()\n",
    "\n",
    "fig.coast(\n",
    "    projection=\"M10c\", \n",
    "    region=[-10, 35, 35, 58],\n",
    "    land=\"gray99\",\n",
    "    shorelines=\"1/0.1p,gray50\",\n",
    "    frame=True,\n",
    ")\n",
    "\n",
    "# Split the dataset in two subsets of shorter and longer rivers\n",
    "# Feel free to play around with this value\n",
    "len_limit = 700000  # in meters\n",
    "gpd_rivers_short = gpd_rivers[gpd_rivers[\"Shape_Leng\"] < len_limit]\n",
    "gpd_rivers_long = gpd_rivers[gpd_rivers[\"Shape_Leng\"] > len_limit]\n",
    "\n",
    "fig.plot(data=gpd_rivers_short, pen=\"0.5p,orange\", label=f\"rivers shorter {len_limit} m\")\n",
    "fig.plot(data=gpd_rivers_long, pen=\"0.5p,darkred\", label=f\"rivers longer {len_limit} m\")\n",
    "\n",
    "fig.legend()\n",
    "\n",
    "fig.show(dpi=150)"
   ]
  },
  {
   "cell_type": "markdown",
   "id": "eb723411-a607-4db4-bb9f-e9067248b512",
   "metadata": {},
   "source": [
    "#### 2.1.4 Plot the rivers with color-coding for the river length\n",
    "\n",
    "Use the gallery example https://www.pygmt.org/v0.13.0/gallery/lines/line_custom_cpt.html to plot the rivers with color-coding for the river length."
   ]
  },
  {
   "cell_type": "code",
   "execution_count": null,
   "id": "a61552d6-6c87-4fe3-ba5a-4fa9af6c23db",
   "metadata": {},
   "outputs": [],
   "source": [
    "# Your code (:"
   ]
  },
  {
   "cell_type": "markdown",
   "id": "8e833bc6-54df-430b-91dd-bc63159a65c7",
   "metadata": {},
   "source": [
    "### 2.2 Polygon geometry\n",
    "\n",
    "Used in / ideas of this example\n",
    "* plot with fill=\"+z\" and aspatial parameter\n",
    "* choropleth map: maybe higher-level method see PR https://github.com/GenericMappingTools/pygmt/pull/2798\n",
    "* Data stored in geopandas GeoDataFrame\n",
    "* built-in data of geopandas: deprecated see issue https://github.com/GenericMappingTools/pygmt/issues/2786"
   ]
  },
  {
   "cell_type": "markdown",
   "id": "4ea5bd4e-d26c-449a-8b08-2eaa05d85877",
   "metadata": {},
   "source": [
    "#### 2.2.1 Data - `geopandas.GeoDataFrame` with polygon geometry"
   ]
  },
  {
   "cell_type": "code",
   "execution_count": null,
   "id": "81facdc5-a644-4327-9cb1-7542c4d0d73f",
   "metadata": {},
   "outputs": [],
   "source": [
    "gdf_airbnb = gpd.read_file(\"https://geodacenter.github.io/data-and-lab//data/airbnb.zip\")\n",
    "gdf_airbnb.head()"
   ]
  },
  {
   "cell_type": "markdown",
   "id": "9f6f0cab-9588-4b32-bd8e-2fbd4f626ef6",
   "metadata": {},
   "source": [
    "#### 2.2.2 Create a choropleth map"
   ]
  },
  {
   "cell_type": "code",
   "execution_count": null,
   "id": "f10895a2-67c6-41e1-b33b-627e391f2f9c",
   "metadata": {},
   "outputs": [],
   "source": [
    "fig = pygmt.Figure()\n",
    "fig.basemap(region=[-88, -87.4, 41.6, 42.05], projection=\"M10c\", frame=\"rltb\")\n",
    "\n",
    "# Set up colormap\n",
    "popul_min = np.min(gdf_airbnb[\"population\"])\n",
    "popul_max = np.max(gdf_airbnb[\"population\"])\n",
    "pygmt.makecpt(cmap=\"bilbao\", series=[popul_min, popul_max, 10])\n",
    "# Add colorbar\n",
    "fig.colorbar(frame=\"x+lpopulation\")\n",
    "\n",
    "# Plot the polygons with color-coding for the population\n",
    "fig.plot(\n",
    "    data=gdf_airbnb, \n",
    "    pen=\"0.2p,gray10\", \n",
    "    fill=\"+z\", \n",
    "    cmap=True,\n",
    "    aspatial=\"Z=population\",\n",
    ")\n",
    "\n",
    "fig.show(dpi=150)"
   ]
  },
  {
   "cell_type": "markdown",
   "id": "03516fe8-5013-4acb-89d1-a1ebdbc1d426",
   "metadata": {},
   "source": [
    "### 3. Additional comments\n",
    "\n",
    "Some interesting aspects:\n",
    "\n",
    "- Convert other objects to `pandas` or `GeoPandas` objects to make them usable in PyGMT\n",
    "- Combination with `shapely` to create more complex geometries (i.e. `from shapely.geometry import Polygon`)\n",
    "- Use sutiable colormaps (F. Crameri publication)\n",
    "- Use similarly with DataFrames from xyz  "
   ]
  },
  {
   "cell_type": "markdown",
   "id": "d1b3e114-1ff0-4cec-b75a-649cdc16ddfe",
   "metadata": {},
   "source": [
    "### 4. References\n",
    "\n"
   ]
  },
  {
   "cell_type": "markdown",
   "id": "885ad8a2-b4f2-4b8d-8cc3-13c7116600bf",
   "metadata": {},
   "source": [
    "- xyz"
   ]
  }
 ],
 "metadata": {
  "kernelspec": {
   "display_name": "Python 3 (ipykernel)",
   "language": "python",
   "name": "python3"
  },
  "language_info": {
   "codemirror_mode": {
    "name": "ipython",
    "version": 3
   },
   "file_extension": ".py",
   "mimetype": "text/x-python",
   "name": "python",
   "nbconvert_exporter": "python",
   "pygments_lexer": "ipython3",
   "version": "3.12.6"
  }
 },
 "nbformat": 4,
 "nbformat_minor": 5
}

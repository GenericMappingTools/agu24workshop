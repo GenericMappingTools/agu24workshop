{
 "cells": [
  {
   "cell_type": "markdown",
   "id": "123cc524-73bd-40e5-b727-ebef5b3b1f0b",
   "metadata": {
    "panel-layout": {
     "height": 218.611,
     "visible": true,
     "width": 100
    }
   },
   "source": [
    "# **Tutorial 1** - First figure 🚀 and Subplots / layout \n",
    "\n",
    "This tutorial will cover the fundamental concepts behind making figures with PyGMT:\n",
    "\n",
    "- Drawing coastlines\n",
    "- Drawing a map frame\n",
    "- Choosing a projection\n",
    "- Downloading remote dataset\n",
    "- Imaging Earth's relief\n",
    "- Creating colorbar\n",
    "- Subplot in a figure"
   ]
  },
  {
   "cell_type": "markdown",
   "id": "dfa0db02-962e-4031-a35c-4eaf4bf7d4f2",
   "metadata": {
    "panel-layout": {
     "height": 218.611,
     "visible": true,
     "width": 100
    }
   },
   "source": [
    ":::{note}\n",
    "\n",
    "This tutorial is part of the AGU24 annual meeting GMT/PyGMT pre-conference workshop (PREWS9) **Mastering Geospatial Visualizations with GMT/PyGMT**\n",
    "- Website: https://www.generic-mapping-tools.org/agu24workshop\n",
    "- GitHub: https://github.com/GenericMappingTools/agu24workshop\n",
    "- Conference: https://agu.confex.com/agu/agu24/meetingapp.cgi/Session/226736\n",
    "\n",
    "History\n",
    "- Author: [Jing-Hui Tong](https://orcid.org/0009-0002-7195-3071)\n",
    "- Created: November-December 2024\n",
    "- Recommended versions: [PyGMT v0.13.0](https://www.pygmt.org/v0.13.0) with [GMT 6.5.0](https://docs.generic-mapping-tools.org/6.5)\n",
    "\n",
    "References\n",
    "- Liam Toney, [2021 IRIS ROSES unit05](https://github.com/roseseismo/roses2021/blob/main/unit05/roses_mapping_lecture.ipynb)\n",
    "- Chih-Ming Lin, GMT courses for 2019 NTNUES summer program\n",
    "\n",
    "Fee free to play around with these code examples 🚀. In case you found any kind of error, just report it by [opening an issue](https://github.com/GenericMappingTools/agu24workshop/issues) or [provide a fix via a pull request](https://github.com/GenericMappingTools/agu24workshop/pulls). Please use the [GMT forum](https://forum.generic-mapping-tools.org/) to ask questions.\n",
    "\n",
    ":::"
   ]
  },
  {
   "cell_type": "markdown",
   "id": "4397e614-c0c4-4d49-9463-025698928b16",
   "metadata": {
    "panel-layout": {
     "height": 114.635,
     "visible": true,
     "width": 100
    }
   },
   "source": [
    ":::{tip}\n",
    "In Jupyter, some shortcut key will increase your learning curve!\n",
    "* Run cell: `Shift`+`Enter`\n",
    "* Code indentation: `TAB`\n",
    "* Code dedenting: `Shift`+`TAB`\n",
    "* Writing single-line comments: beginning with **#** or `Command`+`/`\n",
    "* Auto-completion: `TAB` while you writing some code\n",
    ":::"
   ]
  },
  {
   "cell_type": "markdown",
   "id": "7c1f7df7-5db9-4301-8dd2-05ce19fb3b28",
   "metadata": {
    "panel-layout": {
     "height": 119.774,
     "visible": true,
     "width": 100
    }
   },
   "source": [
    "## 0️⃣ Importing \n",
    "\n",
    "First thing to do is load PyGMT (`import`) so that we can access its functionality. \n",
    "\n",
    "PyGMT has a flat package layout, meaning that you can access everything in it with a single `import`."
   ]
  },
  {
   "cell_type": "code",
   "execution_count": null,
   "id": "71301b84-c2d0-4752-87f6-bed981a19313",
   "metadata": {},
   "outputs": [],
   "source": [
    "import pygmt"
   ]
  },
  {
   "cell_type": "markdown",
   "id": "ce622686-4279-4ab3-b00a-a9f3e7dc8cd4",
   "metadata": {},
   "source": [
    "## 1️⃣ Starting your first figure -- [`pygmt.Figure`](https://www.pygmt.org/v0.13.0/api/generated/pygmt.Figure.html)\n",
    "Every figure must start with the creation of a pygmt.Figure()"
   ]
  },
  {
   "cell_type": "code",
   "execution_count": null,
   "id": "ca870b9d-4b21-420a-b547-4983a208d3eb",
   "metadata": {},
   "outputs": [],
   "source": [
    "fig = pygmt.Figure()"
   ]
  },
  {
   "cell_type": "markdown",
   "id": "3336150b-5a93-4f03-b355-9a56705581ab",
   "metadata": {},
   "source": [
    "We have blank canvas in the `fig` variable now, we will overlay elements and show it on same `fig`. "
   ]
  },
  {
   "cell_type": "markdown",
   "id": "03827f08-f6f5-4056-b73b-2071c90d8f0e",
   "metadata": {},
   "source": [
    "### 1.1 Drawing coastline -- [`pygmt.Figure.coast`](https://www.pygmt.org/v0.13.0/api/generated/pygmt.Figure.coast.html)\n",
    "Before plotting, you need to define \n",
    "1. `region`: Controlling the geographic or Cartesian extent of the figure. Regions are specified as lists of `[xmin, xmax, ymin, ymax]`. Another shortcut, `region=\"g\"`, which specifies a **global** domain.\n",
    "2. `projection`: Controlling the map projection. GMT (and therefore PyGMT) supports 31 different map projections, from basic Cartesian axes to [arbitrary vertical perspectives](https://docs.generic-mapping-tools.org/6.5/gallery/ex26.html).\n",
    "\n",
    "> Determining the size of your images `10c`, the size will affect how large of your following fontsize and markersize\n",
    ">> **length unit** `c`: centimeter (default)\n",
    "\n",
    "> More projections please click https://www.pygmt.org/v0.13.0/projections/index.html"
   ]
  },
  {
   "cell_type": "code",
   "execution_count": null,
   "id": "8482340c-b6b1-4c2e-a8c7-39de1c9c89d0",
   "metadata": {},
   "outputs": [],
   "source": [
    "region = [-180, -150, 50, 65]\n",
    "\n",
    "fig.coast(region=region, projection=\"M10c\", shorelines=True)\n",
    "\n",
    "# To see the figure looks like\n",
    "fig.show()"
   ]
  },
  {
   "cell_type": "markdown",
   "id": "2853c667-729d-4695-8b10-210661b7f777",
   "metadata": {},
   "source": [
    ":::{seealso}\n",
    "On Jupyter, `show` will embed a PNG of the figure directly into the notebook. But it can also open a PDF in an external viewer, which is probably what you want if you're using a plain Python script. See the documentation for [`pygmt.Figure.show`](https://www.pygmt.org/v0.13.0/api/generated/pygmt.Figure.show.html#pygmt.Figure.show) for more information.\n",
    ":::"
   ]
  },
  {
   "cell_type": "markdown",
   "id": "e28639db-0e21-4c12-91b7-2a96f6158160",
   "metadata": {},
   "source": [
    "::::{seealso}\n",
    "If the image size is too small, the default annotation fonts may appear disproportionately large, impacting the overall visual balance and readability.\n",
    "::::"
   ]
  },
  {
   "attachments": {},
   "cell_type": "markdown",
   "id": "bc713bc7-6c8b-4709-b683-e7908b4a91ef",
   "metadata": {},
   "source": [
    "### 1.2 Coloring and add map element (frame and ticks)\n",
    "1. axis labels `WSne`: If an upper-case letter (W, S, N, E) is passed, the axis is plotted with tick marks and annotations. The lower-case version (w, s, n, e) plots the axis only with tick marks. To only plot the axis pass (l, b, t, r).\n",
    "\n",
    "2. annotations `a`: tick labels\n",
    "3. frame `f`: ticks\n",
    "4. grid `g`: grid line in the figure.\n",
    "\n",
    "<img src=\"_static/tut01_frame.jpg\" alt=\"frame\" />\n",
    "\n",
    "> More detail for frame https://www.pygmt.org/v0.13.0/tutorials/basics/frames.html\n",
    "\n",
    "> More colors https://docs.generic-mapping-tools.org/6.5/gmtcolors.html#list-of-colors"
   ]
  },
  {
   "cell_type": "code",
   "execution_count": null,
   "id": "7f91a44c-6723-4f59-a34b-c968d03e1083",
   "metadata": {},
   "outputs": [],
   "source": [
    "fig.coast(water=\"lightblue\", land=\"grey\", frame=[\"WSne\", \"a10f5g5\"])\n",
    "fig.show()"
   ]
  },
  {
   "cell_type": "markdown",
   "id": "c9b6acaa-ffea-4c8a-bf2a-91b73070d06c",
   "metadata": {},
   "source": [
    "### 1.3 Stacking approach of GMT / PyGMT\n",
    "1. In GMT/PyGMT, plotting is achieved by layering new elements, meaning that each new element is stacked on top of the previous layers. \n",
    "Therefore, if you draw a black line in an earlier layer and then add a new layer (such as color filling), these new layers might cover the original black line, making it invisible.\n",
    "2. In a **same figure**, once you define region/projection before, you don't need to define again. "
   ]
  },
  {
   "attachments": {},
   "cell_type": "markdown",
   "id": "244b61fe-c349-41ce-9dca-6eefb35d9393",
   "metadata": {},
   "source": [
    "## 2️⃣ Downloading global dataset -- [`pygmt.datasets`](https://www.pygmt.org/v0.13.0/api/index.html#datasets)\n",
    "\n",
    "Before you access remote dataset from PyGMT, you need to define \n",
    "1. `region`: Region of interest, format is [xmin, xmax, ymin, ymax]\n",
    "2. `resolution`: Grid resolution. The suffix **d** (arc-degrees), **m** (arc-minutes), and **s** (arc-seconds)."
   ]
  },
  {
   "cell_type": "code",
   "execution_count": null,
   "id": "b9a89dc9-68ec-4ae3-8691-60d110105797",
   "metadata": {},
   "outputs": [],
   "source": [
    "grid = pygmt.datasets.load_earth_relief(resolution=\"03m\", region=region)\n",
    "\n",
    "# You also can access then cut the grid\n",
    "# and this way can save grid (outgrid) as a file in your folder.\n",
    "# https://www.generic-mapping-tools.org/remote-datasets/\n",
    "\n",
    "# pygmt.grdcut(\n",
    "#    grid=\"@earth_relief_03m\", region=region, outgrid=\"Alaska.grd\"\n",
    "# )"
   ]
  },
  {
   "cell_type": "markdown",
   "id": "3247be8e-f4cb-41bc-ab18-9ed93175f34f",
   "metadata": {},
   "source": [
    "A way to confirm your grid information [`pygmt.grdinfo`](https://www.pygmt.org/v0.13.0/api/generated/pygmt.grdinfo.html)"
   ]
  },
  {
   "cell_type": "code",
   "execution_count": null,
   "id": "13ce4c33-3e30-40bb-93d4-b257443e599d",
   "metadata": {},
   "outputs": [],
   "source": [
    "print(pygmt.grdinfo(grid=grid))"
   ]
  },
  {
   "cell_type": "markdown",
   "id": "79fb24e7-fefe-45b4-b952-29f60172b76b",
   "metadata": {},
   "source": [
    "## 3️⃣ Visualizing grid -- [`pygmt.Figure.grdimage`](https://www.pygmt.org/v0.13.0/api/generated/pygmt.Figure.grdimage.html)\n",
    "Project and plot grids or images\n",
    "\n",
    "Now, we start with a new canvas. So you need to set up region/projection again!\n",
    "\n",
    "Before imaging, you need to define\n",
    "1. `grid`: Specifies the grid file (e.g., a topographic grid) from which data will be sampled."
   ]
  },
  {
   "cell_type": "code",
   "execution_count": null,
   "id": "762cced0-3ee2-42af-ba32-f72e7007d0d8",
   "metadata": {},
   "outputs": [],
   "source": [
    "fig = pygmt.Figure()\n",
    "\n",
    "fig.grdimage(grid=grid, region=region, projection=\"M10c\")\n",
    "\n",
    "fig.coast(shorelines=\"1p,black\", frame=[\"WSne\", \"a5f2.5\"])\n",
    "\n",
    "fig.show()"
   ]
  },
  {
   "cell_type": "markdown",
   "id": "2a1567c3-5ccd-4c17-bc2f-92fe33d4a398",
   "metadata": {},
   "source": [
    "### 3.1 Customizing colorbar -- [`pygmt.makecpt`](https://www.pygmt.org/v0.13.0/api/generated/pygmt.makecpt.html)\n",
    "Making GMT color palette tables (CPT).\n",
    "\n",
    "You need to define:\n",
    "1. `cmap`: Choosing a colormap to image your grid/dataset.\n",
    "> More colormap resources https://docs.generic-mapping-tools.org/6.5/_images/GMT_App_M_1a.png\n",
    "\n",
    "2. `series`: Defining the range of the CPT by giving the lowest and highest z-value. e.g., [0, 500] (without interval) or [0, 500, 10] (defining the interval)"
   ]
  },
  {
   "cell_type": "code",
   "execution_count": null,
   "id": "9471f6c0-9b81-43b5-b3a4-4614fd3bc885",
   "metadata": {},
   "outputs": [],
   "source": [
    "pygmt.makecpt(\n",
    "    cmap=\"geo\",\n",
    "    series=[-8000, 7000, 500],\n",
    "    continuous=True,\n",
    "    # The file name with extension .cpt to store the generated CPT file\n",
    "    output=\"eleva.cpt\",\n",
    ")"
   ]
  },
  {
   "attachments": {},
   "cell_type": "markdown",
   "id": "5340c6d3-8942-40e5-a07b-a09be9a5c19a",
   "metadata": {},
   "source": [
    "Now, re-plot the figure with new colormap and ...\n",
    "### 3.2 Adding [`pygmt.Figure.colorbar`](https://www.pygmt.org/v0.13.0/api/generated/pygmt.Figure.colorbar.html)\n",
    "Plot a gray or color scale-bar on maps.\n",
    "\n",
    "You need to define,\n",
    "1. `cmap`: File name of a CPT file\n",
    "2. `frame`: Setting color bar boundary frame, labels, and axes attributes\n",
    "\n",
    "    > * **+l** given colorbar title\n",
    "\n",
    "3. `position`: Defining the reference point on the map for the color scale\n",
    "\n",
    "   > Four coordinate systems:\n",
    "   >  * **g** for map (user) coordinates\n",
    "   >  * **j** or **J** for setting reference point via a 2-character justification code\n",
    "   >  * **x** for plot coordinates: x/y (specific position)\n",
    "   >  * **n** for normalized (0-1) coordinates \n",
    "\n",
    "   > Others\n",
    "   >  * **+w** for length and width of the color bar. e.g., +w10c/0.5c \n",
    "   >  * **+h** horizontal colorbar, if you want to plot vertical one, use **+v**\n",
    "   >  * **+m** for colorbar title position\n",
    "\n",
    "<img src=\"_static/tut01_colorbar_position.jpg\" alt=\"position\" />"
   ]
  },
  {
   "cell_type": "code",
   "execution_count": null,
   "id": "41bbe1f8-5636-4d7c-8795-eafd993cf4ed",
   "metadata": {},
   "outputs": [],
   "source": [
    "fig = pygmt.Figure()\n",
    "\n",
    "fig.grdimage(grid=grid, region=region, projection=\"M10c\", cmap=\"eleva.cpt\")\n",
    "\n",
    "fig.coast(shorelines=\"1p,black\", frame=[\"WSne\", \"a5f2.5\"])\n",
    "\n",
    "fig.colorbar(\n",
    "    cmap=\"eleva.cpt\",\n",
    "    frame=\"a2000f500+lElevation (m)\",\n",
    "    position=\"JBC+w10c/0.4c+mc+h\",\n",
    ")\n",
    "\n",
    "fig.show()"
   ]
  },
  {
   "attachments": {},
   "cell_type": "markdown",
   "id": "d11eff82-e03c-4a89-9480-2860aa033ff6",
   "metadata": {},
   "source": [
    "## 4️⃣ Creating multi-panel figures in a canvas -- [`pygmt.Figure.subplot`](https://www.pygmt.org/v0.13.0/api/generated/pygmt.Figure.subplot.html#pygmt.Figure.subplot) and [`pygmt.Figure.set_panel`](https://www.pygmt.org/v0.13.0/api/generated/pygmt.Figure.set_panel.html#pygmt.Figure.set_panel)\n",
    "\n",
    "\n",
    "You need to define the figure layout with figure.subplot:\n",
    "1. `nrows`: Number of vertical rows\n",
    "2. `ncols`: Number of horizontal columns\n",
    "3. `figsize` or `subsize`: Entire figure dimensions, e.g., [width, height]\n",
    "\n",
    "Second, setting each plot with figure.set_panel:\n",
    "1. `panel`: Setting the current subplot panel to plot on. e.g., **index** or [**row**, **col**]\n",
    "\n",
    "<img src=\"_static/tut01_subplot.jpg\" alt=\"subplot\" />"
   ]
  },
  {
   "cell_type": "code",
   "execution_count": null,
   "id": "b0dc2c1d-0509-4880-b7e9-a3824b265f76",
   "metadata": {},
   "outputs": [],
   "source": [
    "fig = pygmt.Figure()\n",
    "\n",
    "grid_crust_age = pygmt.datasets.load_earth_age(\n",
    "    resolution=\"30m\", region=[-210, -150, 35, 65]\n",
    ")\n",
    "\n",
    "with fig.subplot(nrows=1, ncols=2, figsize=[\"18c\", \"12c\"]):\n",
    "\n",
    "    with fig.set_panel(panel=0):\n",
    "\n",
    "        fig.grdimage(\n",
    "            grid=grid,\n",
    "            region=region,\n",
    "            # \"?\" means that map width automatically determined from the subplot width.\n",
    "            projection=\"M?\",\n",
    "            cmap=\"eleva.cpt\",\n",
    "        )\n",
    "        fig.coast(shorelines=\"1p,black\", frame=[\"WSne\", \"a5f2.5\"])\n",
    "        fig.colorbar(\n",
    "            cmap=\"eleva.cpt\",\n",
    "            position=\"JBC+w8c/0.3c+mc+h\",\n",
    "            frame=\"a2000f500+lElevation (m)\",\n",
    "        )\n",
    "\n",
    "    with fig.set_panel(panel=1):\n",
    "\n",
    "        pygmt.makecpt(cmap=\"@earth_age.cpt\", series=[0, 340])\n",
    "        fig.grdimage(\n",
    "            grid=grid_crust_age,\n",
    "            region=[-210, -150, 35, 65],\n",
    "            # changing projection method\n",
    "            projection=\"L-180/55/35/65/?\",\n",
    "            frame=[\"a5f2.5\", \"SEnw\"],\n",
    "            cmap=True,\n",
    "        )\n",
    "\n",
    "        fig.colorbar(\n",
    "            position=\"JBC+w6c/0.3c+mc+h\", frame=\"a40f20+lSeafloor crustal asge (Ma)\"\n",
    "        )\n",
    "\n",
    "fig.show()"
   ]
  },
  {
   "attachments": {},
   "cell_type": "markdown",
   "id": "25aeb001-48ed-417b-94dc-637c3fad15c1",
   "metadata": {},
   "source": [
    "## 5️⃣ Basic projection types: \n",
    "\n",
    "<img src=\"_static/tut01_projection.jpg\" alt=\"position\" />\n",
    "By default, PyGMT will use an equidistant cylindrical projection if the region seems to be geographic longitude and latitude.\n",
    "\n",
    "1. Mercator Projection -- mapping the Earth onto a cylinder, preserving angles, making it useful for navigational purposes.\n",
    "\n",
    "* Use Case: Ideal for world maps where direction needs to be preserved, such as marine navigation. This projection distorts size, especially near the poles.\n",
    "* GMT Command: **M[lon]/[lat]**, specifying the central longitude and latitude.\n",
    "\n",
    "2. Conic Projection -- projecting the Earth onto a cone.\n",
    "   \n",
    "* Use Case: for regional maps, especially in mid-latitude countries, where distortion of shapes and areas is minimized within specific latitude ranges.\n",
    "* GMT Command: **L[lon0]/[lat0]/[lat1]/[lat2]**, where lon0 and lat0 define the **projection center** and lat1/lat2 define the **standard parallels**.\n",
    "\n",
    "3. Azimuthal Projection -- projecting the Earth onto a plane, preserving directions from a central point.\n",
    "   \n",
    "* Use Case: Suitable for mapping polar regions or any area where direction from a central point is essential.\n",
    "* GMT Command: **E[lon]/[lat]**, with lon and lat defining the central point.\n",
    "\n"
   ]
  },
  {
   "cell_type": "code",
   "execution_count": null,
   "id": "00558ccf-06c9-43d5-9e76-5edd36c6fc35",
   "metadata": {},
   "outputs": [],
   "source": []
  }
 ],
 "metadata": {
  "kernelspec": {
   "display_name": "Python 3 (ipykernel)",
   "language": "python",
   "name": "python3"
  },
  "language_info": {
   "codemirror_mode": {
    "name": "ipython",
    "version": 3
   },
   "file_extension": ".py",
   "mimetype": "text/x-python",
   "name": "python",
   "nbconvert_exporter": "python",
   "pygments_lexer": "ipython3",
   "version": "3.12.7"
  },
  "panel-cell-order": [
   "eb4b43cc-dc76-45d1-a370-7266bd943910",
   "4397e614-c0c4-4d49-9463-025698928b16",
   "7c1f7df7-5db9-4301-8dd2-05ce19fb3b28",
   "77ec9f94-c7e3-4f0d-ba78-bde9d5588ed7"
  ]
 },
 "nbformat": 4,
 "nbformat_minor": 5
}

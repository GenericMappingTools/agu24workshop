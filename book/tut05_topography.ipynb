{
 "cells": [
  {
   "cell_type": "markdown",
   "id": "0a1a49e9-6ce7-4c26-8cce-4e5d7521fda5",
   "metadata": {},
   "source": [
    "# **Tutorial 5** - 3-D Topography (Planetary / Antarctic maps) 🏔️\n",
    "\n",
    "In this tutorial, let's use PyGMT to create 3-D perspective plots of Digital Elevation\n",
    "Models (DEM) over Mars (the planet) and Antarctica (the continent)!"
   ]
  },
  {
   "cell_type": "markdown",
   "id": "e5180e42-06ee-4375-a034-294f481ca27a",
   "metadata": {},
   "source": [
    ":::{note}\n",
    "\n",
    "This tutorial is part of the AGU24 annual meeting GMT/PyGMT pre-conference workshop (PREWS9) **Mastering Geospatial Visualizations with GMT/PyGMT**\n",
    "- Website: https://www.generic-mapping-tools.org/agu24workshop\n",
    "- GitHub: https://github.com/GenericMappingTools/agu24workshop\n",
    "- Conference: https://agu.confex.com/agu/agu24/meetingapp.cgi/Session/226736\n",
    "\n",
    "History\n",
    "- Authors: [Wei Ji Leong](https://orcid.org/0000-0003-2354-1988) and [André Belém](https://orcid.org/0000-0002-8865-6180)\n",
    "- Created: November-December 2024\n",
    "- Recommended versions: [PyGMT v0.13.0](https://www.pygmt.org/v0.13.0) with [GMT 6.5.0](https://docs.generic-mapping-tools.org/6.5)\n",
    "\n",
    "🔖 References\n",
    "- https://www.generic-mapping-tools.org/remote-datasets/mars-relief.html\n",
    "- https://github.com/andrebelem/PlanetaryMaps\n",
    "- {cite:t}`NeumannMarsOrbiterLaser2003`\n",
    "\n",
    "Fee free to play around with these code examples 🚀. In case you found any kind of error, just report it by [opening an issue](https://github.com/GenericMappingTools/agu24workshop/issues) or [provide a fix via a pull request](https://github.com/GenericMappingTools/agu24workshop/pulls). Please use the [GMT forum](https://forum.generic-mapping-tools.org/) to ask questions.\n",
    "\n",
    ":::"
   ]
  },
  {
   "cell_type": "code",
   "execution_count": null,
   "id": "b5b1a026",
   "metadata": {},
   "outputs": [],
   "source": [
    "import pygmt\n",
    "import rioxarray\n",
    "import rioxarray.merge"
   ]
  },
  {
   "cell_type": "markdown",
   "id": "13d1cdfb",
   "metadata": {},
   "source": [
    "## 0️⃣ Mars relief data\n",
    "\n",
    "First, we'll load the Mars Orbiter Laser Altimeter (MOLA) dataset using\n",
    "[`pygmt.datasets.load_mars_relief`](https://www.pygmt.org/v0.13.0/api/generated/pygmt.datasets.load_mars_relief.html).\n",
    "The following command will load the MOLA dataset into an\n",
    "[`xarray.DataArray`](https://docs.xarray.dev/en/v2024.09.0/generated/xarray.DataArray.html)\n",
    "grid, and we'll set the `resolution` parameter to `01d` (1 arc-degree) for now."
   ]
  },
  {
   "cell_type": "code",
   "execution_count": null,
   "id": "7b203881",
   "metadata": {},
   "outputs": [],
   "source": [
    "da_mars = pygmt.datasets.load_mars_relief(resolution=\"01d\")\n",
    "da_mars"
   ]
  },
  {
   "cell_type": "markdown",
   "id": "07c66015",
   "metadata": {},
   "source": [
    "### 0.1 2-D map view\n",
    "\n",
    "Here we can create a map of the entire Martian surface, using a\n",
    "[Mollweide projection](https://www.pygmt.org/v0.13.0/projections/misc/misc_mollweide.html).\n",
    "To get a reddish hue, we'll use a\n",
    "[colormap](https://docs.generic-mapping-tools.org/6.5/reference/cpts.html)\n",
    "called `SCM/managua` which comes with a soft hinge\n",
    "(see [`makecpt -C`](https://docs.generic-mapping-tools.org/6.5/makecpt.html#c))\n",
    "that can be set at elevation 0 meter by appending `+h0` to the `cmap` parameter."
   ]
  },
  {
   "cell_type": "code",
   "execution_count": null,
   "id": "9a4dbeb7",
   "metadata": {},
   "outputs": [],
   "source": [
    "fig = pygmt.Figure()\n",
    "fig.grdimage(grid=da_mars, frame=True, projection=\"W12c\", cmap=\"SCM/managua+h0\")\n",
    "fig.colorbar(frame=[\"a5000\", \"x+lElevation\", \"y+lm\"])\n",
    "fig.show()"
   ]
  },
  {
   "cell_type": "markdown",
   "id": "c56eed5d",
   "metadata": {},
   "source": [
    "### 0.2 Zoomed in view\n",
    "\n",
    "A very interesting feature is [Olympus Mons](https://en.wikipedia.org/wiki/Olympus_Mons)\n",
    "centered at approximately 19°N and 133°W, with a height of 22 km (14 miles) and\n",
    "approximately 700 km (435 miles) in diameter.\n",
    "\n",
    "Let's grab a higher resolution map over the volcano, and plot another 2-D map!"
   ]
  },
  {
   "cell_type": "code",
   "execution_count": null,
   "id": "0d5f33e8",
   "metadata": {},
   "outputs": [],
   "source": [
    "da_olympus = pygmt.datasets.load_mars_relief(\n",
    "    resolution=\"30s\",  # 30 arc-seconds\n",
    "    region=[-151, -117, 12, 25],  # xmin, xmax, ymin, ymax\n",
    ")\n",
    "da_olympus"
   ]
  },
  {
   "cell_type": "code",
   "execution_count": null,
   "id": "a82dc3ce",
   "metadata": {},
   "outputs": [],
   "source": [
    "fig = pygmt.Figure()\n",
    "fig.grdimage(grid=da_olympus, frame=[\"WSne+tOlympus Mons\", \"af\"], cmap=\"SCM/managua+h0\")\n",
    "fig.colorbar(frame=[\"a5000\", \"x+lElevation\", \"y+lm\"])\n",
    "fig.show()"
   ]
  },
  {
   "cell_type": "markdown",
   "id": "cbf0ba14",
   "metadata": {},
   "source": [
    "## 1️⃣ Using `grdview` for 3-D Visualization\n",
    "\n",
    "The [`grdview`](https://www.pygmt.org/v0.13.0/api/generated/pygmt.Figure.grdview.html)\n",
    "method in PyGMT is a powerful tool for creating 3-D perspective views of gridded data.\n",
    "By adjusting azimuth and elevation parameters, you can change the viewpoint, helping you\n",
    "to highlight specific terrain features or data patterns. Let’s go through how these\n",
    "parameters affect the visualization.\n",
    "\n",
    "**Setting the Perspective: Azimuth and Elevation**\n",
    "\n",
    "- **Azimuth** (`azimuth`): Controls the horizontal rotation of the view, ranging from 0°\n",
    "  to 360°. Lower values (close to 0°) represent a viewpoint from the north, while 90°\n",
    "  gives a view from the east, 180° from the south, and 270° from the west. Experimenting\n",
    "  with azimuth can help showcase specific aspects of the data from different angles.\n",
    "- **Elevation** (`elevation`): Controls the vertical angle of the view, with 90°\n",
    "  representing a top-down perspective and lower values providing more of a side view.\n",
    "  Typically, values between 20° and 60° create a balanced 3-D effect.\n",
    "\n",
    "**Example**: Using `perspective=[150, 45]` means `azimuth=150` and `elevation=45`, which\n",
    "gives you a southeast view, tilted at a moderate angle to capture both horizontal and\n",
    "vertical details."
   ]
  },
  {
   "cell_type": "code",
   "execution_count": null,
   "id": "dcccb1f0",
   "metadata": {},
   "outputs": [],
   "source": [
    "fig = pygmt.Figure()\n",
    "\n",
    "fig.grdview(\n",
    "    grid=da_olympus,\n",
    "    cmap=\"SCM/managua+h0\",\n",
    "    region=[-151, -117, 12, 25, -5000, 23000],  # xmin, xmax, ymin, ymax, zmin, zmax\n",
    "    projection=\"M12c\",\n",
    "    perspective=[150, 45],  # azimuth bearing, and elevation angle\n",
    "    zsize=\"4c\",  # vertical exaggeration\n",
    "    surftype=\"s\",  # surface plot\n",
    "    shading=True,\n",
    "    frame=[\"xaf\", \"yaf\", \"z5000+lmeters\"],\n",
    ")\n",
    "\n",
    "fig.colorbar(frame=[\"a5000\", \"x+lElevation\", \"y+lm\"], perspective=True, shading=True)\n",
    "fig.show()"
   ]
  },
  {
   "cell_type": "markdown",
   "id": "e1bc3ac1",
   "metadata": {},
   "source": [
    "Note that there are other things we have configured such as:\n",
    "\n",
    "- **zsize** - vertical exaggeration as z-axis size, we used `4c` here for 4 centimeters\n",
    "- **surftype** - using `s` will just create a regular surface\n",
    "- **shading** - set to `True` to get the default hillshading effect\n",
    "- **frame** - A proper 3-D map frame that consists of:\n",
    "  - automatic tick marks on x and y axis (e.g., `xaf` and `yaf`)\n",
    "  - z-axis tick marks every 5000m, plus a label (`z5000+lLabel`)\n",
    "\n",
    "```{tip}\n",
    "When choosing azimuth and elevation, always consider how the scene is illuminated.\n",
    "Azimuth angles that align with typical light directions (e.g., from the northwest)\n",
    "often provide the most natural and visually appealing shadows. Elevations between 20°\n",
    "and 45° typically create a good balance, highlighting terrain features without\n",
    "flattening or obscuring them. You can experiment with different combinations to best\n",
    "reveal the data's structure.\n",
    "```\n",
    "\n",
    "## 2️⃣ Antarctic Digital Elevation Model\n",
    "\n",
    "For the next exercise, we'll pay a visit to the Antarctic continent, specifically,\n",
    "looking at Ross Island where the McMurdo Station (US) and Scott Base (NZ) is located.\n",
    "We'll learn how to drape some RGB imagery from Sentinel-2 onto some DEM tiles from the\n",
    "Reference Elevation Model of Antarctica (REMA).\n",
    "\n",
    "🔖 References:\n",
    "- https://www.pgc.umn.edu/data/rema/\n",
    "- {cite:t}`HowatReferenceElevationModel2019`\n",
    "\n",
    "### 2.1 Getting a DEM mosaic\n",
    "\n",
    "The REMA tiles are distributed as several GeoTIFF files. Our area of interest over Ross\n",
    "Island spans two tiles, so we'll need to retrieve them both an mosaic them. There are\n",
    "several sources for REMA, but we'll use one sourced from\n",
    "https://registry.opendata.aws/pgc-rema/. The two specific tiles we'll get can be\n",
    "previewed at:\n",
    "\n",
    "- https://polargeospatialcenter.github.io/stac-browser/#/external/pgc-opendata-dems.s3.us-west-2.amazonaws.com/rema/mosaics/v2.0/32m/17_33/17_33_32m_v2.0.json\n",
    "- https://polargeospatialcenter.github.io/stac-browser/#/external/pgc-opendata-dems.s3.us-west-2.amazonaws.com/rema/mosaics/v2.0/32m/17_34/17_34_32m_v2.0.json\n",
    "\n",
    "```{tip}\n",
    "To find the tile number, go to https://rema.apps.pgc.umn.edu/ and zoom/pan to the area\n",
    "on the map you're interested in getting a DEM for. Click on the 'Identify' button on the\n",
    "bottom left, and a pop-up will tell you the tile ID number.\n",
    "```\n",
    "\n",
    "To open the GeoTIFF files, we can use\n",
    "[`rioxarray.open_rasterio`](https://corteva.github.io/rioxarray/stable/rioxarray.html#rioxarray.open_rasterio)\n",
    "which load the data into an `xarray.DataArray`."
   ]
  },
  {
   "cell_type": "code",
   "execution_count": null,
   "id": "765a5080",
   "metadata": {},
   "outputs": [],
   "source": [
    "tile_17_33 = rioxarray.open_rasterio(\n",
    "    filename=\"https://pgc-opendata-dems.s3.us-west-2.amazonaws.com/rema/mosaics/v2.0/32m/17_33/17_33_32m_v2.0_dem.tif\"\n",
    ")\n",
    "tile_17_34 = rioxarray.open_rasterio(\n",
    "    filename=\"https://pgc-opendata-dems.s3.us-west-2.amazonaws.com/rema/mosaics/v2.0/32m/17_34/17_34_32m_v2.0_dem.tif\"\n",
    ")"
   ]
  },
  {
   "cell_type": "markdown",
   "id": "0fab2adf",
   "metadata": {},
   "source": [
    "Next, we'll use\n",
    "[`rioxarray.merge.merge_arrays`](https://corteva.github.io/rioxarray/stable/rioxarray.html#rioxarray.merge.merge_arrays)\n",
    "to mosaic the two tiles together, and clip it to the spatial extent of Ross Island."
   ]
  },
  {
   "cell_type": "code",
   "execution_count": null,
   "id": "9b7301f1",
   "metadata": {},
   "outputs": [],
   "source": [
    "dem_mosaic = rioxarray.merge.merge_arrays(\n",
    "    dataarrays=[tile_17_33, tile_17_34],\n",
    "    bounds=(250_000, -1_370_000, 330_000, -1_300_000),  # xmin, ymin, xmax, ymax\n",
    ").isel(band=0)"
   ]
  },
  {
   "cell_type": "markdown",
   "id": "e1530b14",
   "metadata": {},
   "source": [
    "Preview the DEM using\n",
    "[`pygmt.Figure.grdimage`](https://www.pygmt.org/v0.13.0/api/generated/pygmt.Figure.grdimage)"
   ]
  },
  {
   "cell_type": "code",
   "execution_count": null,
   "id": "ce029c99",
   "metadata": {},
   "outputs": [],
   "source": [
    "fig = pygmt.Figure()\n",
    "fig.grdimage(grid=dem_mosaic, cmap=\"oleron\", frame=True, shading=True)\n",
    "fig.colorbar()\n",
    "fig.show()"
   ]
  },
  {
   "cell_type": "markdown",
   "id": "d25a5273",
   "metadata": {},
   "source": [
    "### 2.2 Getting RGB imagery\n",
    "\n",
    "Next, let's get some Sentinel-2 optical satellite imagery, which we'll use to drape\n",
    "on top of the DEM later. We'll find some relatively cloud-free imagery that was taken on\n",
    "31 Oct 2024, specifically these ones that can be previewed at:\n",
    "\n",
    "- https://radiantearth.github.io/stac-browser/#/external/earth-search.aws.element84.com/v1/collections/sentinel-2-l2a/items/S2B_58CEU_20241109_0_L2A?.asset=asset-visual\n",
    "- https://radiantearth.github.io/stac-browser/#/external/earth-search.aws.element84.com/v1/collections/sentinel-2-l2a/items/S2B_58CEV_20241109_0_L2A?.asset=asset-visual\n",
    "\n",
    "```{tip}\n",
    "There are several online viewers based on Spatiotemporal Asset Catalog (STAC) APIs that\n",
    "allow you to search for satellite imagery. Some examples used here were:\n",
    "\n",
    "- EO Browser: https://apps.sentinel-hub.com/eo-browser/?zoom=10&lat=-77.05481&lng=167.27783&themeId=DEFAULT-THEME&visualizationUrl=U2FsdGVkX1%2Btyu1tAfovEieshimr1kMCjLpUXj8Xj1Se6ZoskUOY9xy0WSJyoWvbaHR3C7efJLFsAYvknrfc4Ofb3zqo9bjWhhIUGdtgIp6bitruPIvShiqwMbLG05FK&datasetId=S2L2A&fromTime=2024-11-09T00:00:00.000Z&toTime=2024-11-09T23:59:59.999Z&layerId=2_TONEMAPPED_NATURAL_COLOR&demSource3D=%22MAPZEN%22\n",
    "- Planetary Computer: https://planetarycomputer.microsoft.com/explore?c=167.8417%2C-77.5520&z=7.66&v=2&d=sentinel-2-l2a&m=cql%3A0bbe8c2e6820a52f6d134152bbbc4a3c&r=Natural+color&s=false%3A%3A100%3A%3Atrue&sr=desc&ae=0\n",
    "```\n",
    "\n",
    "We'll use `rioxarray` again to open the GeoTIFF files (using `overview_level=1` means\n",
    "we can get a lower resolution version), and to mosaic the two image tiles together."
   ]
  },
  {
   "cell_type": "code",
   "execution_count": null,
   "id": "9044a88e",
   "metadata": {},
   "outputs": [],
   "source": [
    "tile_58CEU = rioxarray.open_rasterio(\n",
    "    filename=\"https://sentinel-cogs.s3.us-west-2.amazonaws.com/sentinel-s2-l2a-cogs/58/C/EU/2024/11/S2B_58CEU_20241109_0_L2A/TCI.tif\",\n",
    "    overview_level=1,\n",
    ")\n",
    "tile_58CEV = rioxarray.open_rasterio(\n",
    "    filename=\"https://sentinel-cogs.s3.us-west-2.amazonaws.com/sentinel-s2-l2a-cogs/58/C/EV/2024/11/S2B_58CEV_20241109_0_L2A/TCI.tif\",\n",
    "    overview_level=1,\n",
    ")\n",
    "\n",
    "rgb_mosaic = rioxarray.merge.merge_arrays(dataarrays=[tile_58CEU, tile_58CEV])\n",
    "rgb_image = rgb_mosaic.rio.reproject_match(match_data_array=dem_mosaic)\n",
    "rgb_image"
   ]
  },
  {
   "cell_type": "markdown",
   "id": "9076f1c8",
   "metadata": {},
   "source": [
    "```{tip}\n",
    "When working with DEM mosaics and optical imagery, carefully consider the size and\n",
    "resolution of the data. High-resolution DEMs combined with complex topographies can\n",
    "demand substantial computational resources for processing and visualization. A practical\n",
    "tip is to start with lower resolutions to experiment with and refine the scene geometry\n",
    "(e.g., azimuth, elevation, and perspective). Once you are satisfied with the\n",
    "visualization setup, switch to higher-resolution data for the final rendering. This\n",
    "approach helps optimize computational efficiency while maintaining the quality of your\n",
    "analysis.\n",
    "```\n",
    "\n",
    "## 3️⃣ Draping RGB image on 3-D topography\n",
    "\n",
    "We have our RGB imagery from Sentinel-2, and a DEM from REMA, and now we can learn how\n",
    "to render the colour image on top of the 3-D topography! Once again, we will be using\n",
    "[`grdview`](https://www.pygmt.org/v0.13.0/api/generated/pygmt.Figure.grdview.html), but\n",
    "pass in some extra arguments:\n",
    "\n",
    "- **drapegrid**: This is the image that will be overlaid on top of the relief **grid**.\n",
    "- **surftype**: We are plotting an RGB image with 3-bands, so we will use `i` for an\n",
    "  image plot. It is also possible to append a number (e.g. `600`) as the dots-per-unit\n",
    "  resolution for the rasterization\n",
    "- **zscale**: vertical exaggeration factor, usually given as a fractional number.\n",
    "\n",
    "```{tip}\n",
    "When setting the `zscale` for vertical exaggeration, choose a value that balances\n",
    "clarity and realism. For subtle topographies, higher exaggeration (e.g., smaller\n",
    "`zscale` values) can emphasize elevation differences, making features more visible.\n",
    "However, for steep terrains, lower exaggeration helps maintain a natural appearance. You\n",
    "may use `shading=True` to add hillshading, which enhances the 3-D effect by simulating\n",
    "light and shadows, making terrain features easier to interpret. Experiment with both\n",
    "parameters to find the best combination for your dataset and visualization goals.\n",
    "```\n",
    "\n",
    "This is how the code will look like. We'll also use\n",
    "[`pygmt.config`](https://www.pygmt.org/v0.13.0/api/generated/pygmt.config.html) to set\n",
    "[`PS_PAGE_COLOR`](https://docs.generic-mapping-tools.org/6.5/gmt.conf.html#term-PS_PAGE_COLOR)\n",
    "(the background colour) to an off-white colour instead of the default black to better\n",
    "match the polar landscape."
   ]
  },
  {
   "cell_type": "code",
   "execution_count": null,
   "id": "1f1e8a66",
   "metadata": {},
   "outputs": [],
   "source": [
    "fig = pygmt.Figure()\n",
    "with pygmt.config(PS_PAGE_COLOR=\"#a9aba5\"):\n",
    "    fig.grdview(\n",
    "        grid=dem_mosaic,  # DEM layer\n",
    "        drapegrid=rgb_image,  # Sentinel-2 image layer\n",
    "        surftype=\"i600\",  # image draping with 600dpi resolution\n",
    "        perspective=[170, 20],  # view azimuth and angle\n",
    "        zscale=\"0.0005\",  # vertical exaggeration\n",
    "        shading=True,  # hillshading\n",
    "        # frame=\"af\",\n",
    "    )\n",
    "fig.show()"
   ]
  },
  {
   "cell_type": "markdown",
   "id": "89e87c25",
   "metadata": {},
   "source": [
    "```{seealso}\n",
    "Examples of other 3D perspective plots made with PyGMT:\n",
    "- https://github.com/andrebelem/3D-Antarctic-maps\n",
    "- https://github.com/andrebelem/PlanetaryMaps/blob/main/2_%20Tutorial%20Mars%20Maps%20V2.ipynb\n",
    "- https://www.generic-mapping-tools.org/egu22pygmt/lidar_to_surface.html\n",
    "- https://www.pygmt.org/v0.13.0/tutorials/advanced/3d_perspective_image.html\n",
    "```\n",
    "\n",
    "```{bibliography}\n",
    "```"
   ]
  }
 ],
 "metadata": {
  "kernelspec": {
   "display_name": "Python 3 (ipykernel)",
   "language": "python",
   "name": "python3"
  },
  "language_info": {
   "codemirror_mode": {
    "name": "ipython",
    "version": 3
   },
   "file_extension": ".py",
   "mimetype": "text/x-python",
   "name": "python",
   "nbconvert_exporter": "python",
   "pygments_lexer": "ipython3",
   "version": "3.12.7"
  }
 },
 "nbformat": 4,
 "nbformat_minor": 5
}

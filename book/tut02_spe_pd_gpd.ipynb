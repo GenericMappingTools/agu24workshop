{
 "cells": [
  {
   "cell_type": "markdown",
   "id": "ef4bd355-d444-4afd-8f27-b0a2f7d97a76",
   "metadata": {},
   "source": [
    "# **Tutorial 2** - scientific Python ecosystem 🐍: `pandas` and `GeoPandas` (tabular data 🗒️)\n",
    "\n",
    "In this tutorial we will learn using\n",
    " 1. [**pandas**](https://pandas.pydata.org/docs/): **tabular data** stored in ``pandas.DataFrame``s\n",
    " 2. [**GeoPandas**](https://geopandas.org/en/stable/docs.html): **spatial data** (points, lines, polygons) stored in ``geopandas.GeoDataFrame``s\n",
    "\n",
    "within [`PyGMT`](https://www.pygmt.org) to create histograms and different maps."
   ]
  },
  {
   "cell_type": "markdown",
   "id": "06acf2fb-08b1-48b0-bfc7-5e7c46b27ffa",
   "metadata": {},
   "source": [
    ":::{note}\n",
    "\n",
    "This tutorial is part of the AGU24 annual meeting GMT/PyGMT pre-conference workshop (PREWS9) **Mastering Geospatial Visualizations with GMT/PyGMT**\n",
    "- Website: https://www.generic-mapping-tools.org/agu24workshop\n",
    "- GitHub: https://github.com/GenericMappingTools/agu24workshop\n",
    "- Conference: https://agu.confex.com/agu/agu24/meetingapp.cgi/Session/226736\n",
    "\n",
    "History\n",
    "- Author: [Yvonne Fröhlich](https://orcid.org/0000-0002-8566-0619)\n",
    "- Created: November-December 2024\n",
    "- Recommended versions: [PyGMT v0.13.0](https://www.pygmt.org/v0.13.0) with [GMT 6.5.0](https://docs.generic-mapping-tools.org/6.5)\n",
    "\n",
    "Fee free to play around with these code examples 🚀. In case you found any kind of error, just report it by [opening an issue](https://github.com/GenericMappingTools/agu24workshop/issues) or [provide a fix via a pull request](https://github.com/GenericMappingTools/agu24workshop/pulls). Please use the [GMT forum](https://forum.generic-mapping-tools.org/) to ask questions.\n",
    "\n",
    ":::"
   ]
  },
  {
   "cell_type": "markdown",
   "id": "f56cbd63-a1bd-4e53-837c-13473e0db0d0",
   "metadata": {},
   "source": [
    "## 0️⃣ General stuff"
   ]
  },
  {
   "cell_type": "markdown",
   "id": "0541bce3-b928-4eff-9fde-1ad3da25f240",
   "metadata": {},
   "source": [
    "Import the required packages, besides [`PyGMT`](https://www.pygmt.org) itself, we use [`pandas`](https://pandas.pydata.org/docs/) and [`GeoPandas`](https://geopandas.org/en/stable/docs.html):"
   ]
  },
  {
   "cell_type": "code",
   "execution_count": null,
   "id": "60f6a029-c037-4c8c-af4d-6e5a8af22c27",
   "metadata": {},
   "outputs": [],
   "source": [
    "import geopandas as gpd\n",
    "import pygmt\n",
    "\n",
    "# Use a resolution of only 150 dpi for the images within the Jupyter notebook, to keep the file small\n",
    "img_dpi = 150"
   ]
  },
  {
   "cell_type": "markdown",
   "id": "22e12c23-d01b-4c9f-91ca-0d9d1ed07409",
   "metadata": {},
   "source": [
    "## 1️⃣ `pandas`"
   ]
  },
  {
   "cell_type": "markdown",
   "id": "83b9b297-0fea-4e38-8745-17994d93d813",
   "metadata": {},
   "source": [
    "### 1.1 Tabular data - `pandas.DataFrame`\n",
    "\n",
    "Use an example dataset with tabular data provided by `PyGMT` and load it into a `pandas.DataFrame`. This dataset contains earthquakes in the area of Japan."
   ]
  },
  {
   "cell_type": "code",
   "execution_count": null,
   "id": "58207730-2ca4-4b9a-867f-57d1bbd7c1ce",
   "metadata": {},
   "outputs": [],
   "source": [
    "df_jp_eqs = pygmt.datasets.load_sample_data(name=\"japan_quakes\")\n",
    "df_jp_eqs.head()"
   ]
  },
  {
   "cell_type": "markdown",
   "id": "8bf74452-3e78-4bce-a8db-4d0473d15eee",
   "metadata": {},
   "source": [
    "### 1.2 Create a Cartesian histogram\n",
    "\n",
    "First we create a Cartesian histogram for the moment magnitude distribution of all earthquakes in the dataset."
   ]
  },
  {
   "cell_type": "code",
   "execution_count": null,
   "id": "c2136295-4486-4845-ac7e-da2d2eb87941",
   "metadata": {},
   "outputs": [],
   "source": [
    "mag_min = df_jp_eqs[\"magnitude\"].min()\n",
    "print(mag_min)\n",
    "mag_max = df_jp_eqs[\"magnitude\"].max()\n",
    "print(mag_max)"
   ]
  },
  {
   "cell_type": "code",
   "execution_count": null,
   "id": "1d5e868c-bf73-4b7f-8a46-d91751cc71c5",
   "metadata": {},
   "outputs": [],
   "source": [
    "# Choose the bin width of the bars; feel free to play around with this value\n",
    "step_histo = 0.2\n",
    "\n",
    "fig = pygmt.Figure()\n",
    "\n",
    "fig.histogram(\n",
    "    data=df_jp_eqs[\"magnitude\"],\n",
    "    projection=\"X10c\",\n",
    "    # Determine y range automatically\n",
    "    region=[mag_min - step_histo, mag_max + step_histo * 2, 0, 0],\n",
    "    # Define the frame, add labels to the x-axis and y-axis\n",
    "    frame=[\"WSne\", \"x+lmoment magnitude\", \"y+lcounts\"],\n",
    "    # Generate evenly spaced bins\n",
    "    series=step_histo,\n",
    "    # Fill bars with color \"orange\"\n",
    "    fill=\"orange\",\n",
    "    # Draw gray outlines with a width of 1 point\n",
    "    pen=\"1p,gray\",\n",
    "    # Choose histogram type 0, i.e., counts [Default]\n",
    "    histtype=0,\n",
    ")\n",
    "\n",
    "fig.show(dpi=img_dpi)"
   ]
  },
  {
   "cell_type": "markdown",
   "id": "0658236e-869c-417c-8f4a-0195025e9430",
   "metadata": {},
   "source": [
    "Use code example above as orientation, and create a similar histogram showing the hypocentral depth distribution for all earthquakes in the dataset."
   ]
  },
  {
   "cell_type": "code",
   "execution_count": null,
   "id": "743d7a80-c5d4-46ca-820c-451eae825aa6",
   "metadata": {},
   "outputs": [],
   "source": [
    "# Your code (:"
   ]
  },
  {
   "cell_type": "markdown",
   "id": "a32dd7d1-eab4-4a6f-b4d8-0a455135e9b5",
   "metadata": {},
   "source": [
    "For details on creating Cartesian histograms you may find the tutorial [**Cartesian histograms**](https://www.pygmt.org/v0.13.0/tutorials/advanced/cartesian_histograms.html) helpful."
   ]
  },
  {
   "cell_type": "markdown",
   "id": "b387494c-15ae-4019-83fc-bdf325f8a76d",
   "metadata": {},
   "source": [
    "### 1.3 Create a geographical map showing the epicenters (scatter plot)\n",
    "\n",
    "Now it's time to create a geographical map showing the earthquakes. You can start with using [`pygmt.Figure.basemap`](https://www.pygmt.org/v0.13.0/api/generated/pygmt.Figure.basemap.html) and [`pygmt.Figure.coast`](https://www.pygmt.org/v0.13.0/api/generated/pygmt.Figure.coast.html) to set up the map. To create a scatter plot we can pass appropriate columns of a `pandas.DataFrame` to the `x`, `y`, `size`, and `fill` parameters of [`pygmt.Figure.plot`](https://www.pygmt.org/v0.13.0/api/generated/pygmt.Figure.plot.html). This allows us to plot the epicenters as size (moment magnitude) and color (hypocentral depth) coded circles on top of the map. For details you can have a look at [**Plotting data points**](https://www.pygmt.org/v0.13.0/tutorials/basics/plot.html)."
   ]
  },
  {
   "cell_type": "code",
   "execution_count": null,
   "id": "35f3d4b4-244c-4af7-8fae-3da1f9b45c49",
   "metadata": {},
   "outputs": [],
   "source": [
    "fig = pygmt.Figure()\n",
    "fig.basemap(region=[131, 152, 33, 51], projection=\"M10c\", frame=True)\n",
    "fig.coast(land=\"gray99\", shorelines=\"gray50\")\n",
    "\n",
    "pygmt.makecpt(cmap=\"SCM/navia\", series=[0, 500], reverse=True)\n",
    "fig.colorbar(frame=[\"xa100f50+lhypocentral depth\", \"y+lkm\"], position=\"+ef0.2c\")\n",
    "\n",
    "# Plot the epicenters as color- and size-coded circels based on depth or magnitude\n",
    "fig.plot(\n",
    "    x=df_jp_eqs.longitude,\n",
    "    y=df_jp_eqs.latitude,\n",
    "    size=0.02 * 2**df_jp_eqs.magnitude,  # Note the exponential scaling\n",
    "    fill=df_jp_eqs.depth_km,\n",
    "    cmap=True,\n",
    "    style=\"cc\",  # Use circles (fist \"c\") with diameter in centimeters (second \"c\")\n",
    "    pen=\"gray10\",\n",
    ")\n",
    "\n",
    "fig.show(dpi=img_dpi)"
   ]
  },
  {
   "cell_type": "markdown",
   "id": "0b238bef-3018-4bdc-92f8-9caa888a2c32",
   "metadata": {},
   "source": [
    "## 2️⃣ `GeoPandas`"
   ]
  },
  {
   "cell_type": "markdown",
   "id": "21b4748d-3fe1-4791-b233-2125bb40dde2",
   "metadata": {},
   "source": [
    "### 2.1 Line geometry\n",
    "\n",
    "Features which can be represented as a **line geometry** are for example rivers, roads, national boundaries, shorelines, and any kind of profiles."
   ]
  },
  {
   "cell_type": "markdown",
   "id": "8ee81847-a26c-4bd7-a8ae-39a482f202fa",
   "metadata": {},
   "source": [
    "#### 2.1.1 Spatial Data - `geopandas.GeoDataFrame` with line geometry\n",
    "\n",
    "First we download some data into in a [`geopandas.GeoDataFrame`](https://geopandas.org/en/stable/docs/reference/api/geopandas.GeoDataFrame.html). This dataset contains European rivers with their lengths and names."
   ]
  },
  {
   "cell_type": "code",
   "execution_count": null,
   "id": "d22d8f77-f73b-4a2a-be9a-9393c6693d2d",
   "metadata": {},
   "outputs": [],
   "source": [
    "gpd_rivers_org = gpd.read_file(\n",
    "    \"https://www.eea.europa.eu/data-and-maps/data/wise-large-rivers-and-large-lakes/\"\n",
    "    + \"zipped-shapefile-with-wise-large-rivers-vector-line/zipped-shapefile-with-wise-large-rivers-vector-line/\"\n",
    "    + \"at_download/file/wise_large_rivers.zip\"\n",
    ")\n",
    "gpd_rivers_org.head()"
   ]
  },
  {
   "cell_type": "markdown",
   "id": "f8db1757-f80d-4cc3-b650-83109eecc390",
   "metadata": {},
   "source": [
    "Have a look at the values in the geometry column. The coordinates are currently not given in the geographic coordinate reference system (longitude/latitude) and have to be converted. This can be done directly with `GeoPandas`."
   ]
  },
  {
   "cell_type": "code",
   "execution_count": null,
   "id": "cc67a58c-45f3-4819-9df4-04e5aa9d06f7",
   "metadata": {},
   "outputs": [],
   "source": [
    "gpd_rivers_org.crs\n",
    "gpd_rivers = gpd_rivers_org.to_crs(\"EPSG:4326\")\n",
    "gpd_rivers.head()"
   ]
  },
  {
   "cell_type": "markdown",
   "id": "c6ed1e0c-3b1c-485a-9640-9e8098e573f1",
   "metadata": {},
   "source": [
    "#### 2.1.2 Create a geographical map of the rivers\n",
    "\n",
    "Let's plot the rivers represented on top of a map. The `geopandas.DataFrame` can be directly passed to the `data` parameter of [`pygmt.Figure.plot`](https://www.pygmt.org/v0.13.0/api/generated/pygmt.Figure.plot.html). Use the `pen` parameter to adjust the lines. The string argument has the form \"*width*,*color*,*style*\". Different line styles are explained in the Gallery example [**Line styles**](https://www.pygmt.org/v0.13.0/gallery/lines/linestyles.html)."
   ]
  },
  {
   "cell_type": "code",
   "execution_count": null,
   "id": "250d19db-daaf-459d-b8b6-fba5752eec62",
   "metadata": {},
   "outputs": [],
   "source": [
    "fig = pygmt.Figure()\n",
    "\n",
    "fig.coast(\n",
    "    projection=\"M10c\",\n",
    "    region=[-10, 30, 35, 57],\n",
    "    land=\"gray99\",\n",
    "    shorelines=\"1/0.1p,gray50\",\n",
    "    frame=True,\n",
    ")\n",
    "\n",
    "fig.plot(data=gpd_rivers, pen=\"0.5p,steelblue,solid\")\n",
    "\n",
    "fig.show(dpi=img_dpi)"
   ]
  },
  {
   "cell_type": "markdown",
   "id": "94058ab7-657d-49b4-a8f5-2c1b8533a4a3",
   "metadata": {},
   "source": [
    "#### 2.1.3 Plot subsets of the rivers differently\n",
    "\n",
    "Now we want to filter the dataset based on the river length and plot the subsets differently.\n",
    "\n",
    "To indicate the different subsets adding a legend to the plot is helpful. Therefore, we specify the text for the legend entries via the `label` parameter of [`pygmt.Figure.plot`](https://www.pygmt.org/v0.13.0/api/generated/pygmt.Figure.plot.html). Note, that for the first plotted element, additionally the heading (**+H**) and the font size of the heading (**+f**) are specified. Placing the legend on the figure is done via the `position` parameter of [`pygmt.Figure.legend`](https://www.pygmt.org/v0.13.0/api/generated/pygmt.Figure.legend.html). A box can be added via the `box` parameter. For further explanation feel free to look at our gallery example [**Legend**](https://www.pygmt.org/v0.13.0/gallery/embellishments/legend.html)."
   ]
  },
  {
   "cell_type": "code",
   "execution_count": null,
   "id": "9de1b7a9-0e87-4368-8df1-7064e7ac616c",
   "metadata": {},
   "outputs": [],
   "source": [
    "# Split the dataset into two subsets of shorter and longer rivers\n",
    "# Feel free to play around with the limit\n",
    "len_limit = 700000  # in meters\n",
    "gpd_rivers_short = gpd_rivers[gpd_rivers[\"Shape_Leng\"] < len_limit]\n",
    "gpd_rivers_long = gpd_rivers[gpd_rivers[\"Shape_Leng\"] > len_limit]\n",
    "\n",
    "\n",
    "fig = pygmt.Figure()\n",
    "\n",
    "fig.coast(\n",
    "    projection=\"M10c\",\n",
    "    region=[-10, 35, 35, 58],\n",
    "    land=\"gray99\",\n",
    "    shorelines=\"1/0.1p,gray50\",\n",
    "    frame=True,\n",
    ")\n",
    "\n",
    "# Plot the subsets differently and specify the text for the legend entries\n",
    "fig.plot(\n",
    "    data=gpd_rivers_short,\n",
    "    pen=\"0.5p,orange\",\n",
    "    label=f\"shorter {len_limit} m+Hriver length+f9p\",\n",
    ")\n",
    "fig.plot(data=gpd_rivers_long, pen=\"0.5p,darkred\", label=f\"longer {len_limit} m\")\n",
    "\n",
    "# Place the legend at the Top Left corner with an offset of 0.1 centimeters from the map frame\n",
    "# Add a box with semi-transparent (@30) white fill (+g) and a 0.1-points thick gray outline (+p)\n",
    "fig.legend(position=\"jTL+o0.1c\", box=\"+gwhite@30+p0.1p,gray\")\n",
    "\n",
    "fig.show(dpi=img_dpi)"
   ]
  },
  {
   "cell_type": "markdown",
   "id": "eb723411-a607-4db4-bb9f-e9067248b512",
   "metadata": {},
   "source": [
    "#### 2.1.4 Plot the rivers with color-coding for the river length\n",
    "\n",
    "Use the gallery example [**Line colors with a custom CPT**](https://www.pygmt.org/v0.13.0/gallery/lines/line_custom_cpt.html) to plot the rivers with color-coding for the river length."
   ]
  },
  {
   "cell_type": "code",
   "execution_count": null,
   "id": "a61552d6-6c87-4fe3-ba5a-4fa9af6c23db",
   "metadata": {},
   "outputs": [],
   "source": [
    "# Your code (:"
   ]
  },
  {
   "cell_type": "markdown",
   "id": "8e833bc6-54df-430b-91dd-bc63159a65c7",
   "metadata": {},
   "source": [
    "### 2.2 Polygon geometry\n",
    "\n",
    "Any kind of areas, like continents, countries, and states can be stored as **polygon geometry**."
   ]
  },
  {
   "cell_type": "markdown",
   "id": "4ea5bd4e-d26c-449a-8b08-2eaa05d85877",
   "metadata": {},
   "source": [
    "#### 2.2.1 Spatial Data - `geopandas.GeoDataFrame` with polygon geometry\n",
    "\n",
    "Again we download some data into in a [`geopandas.GeoDataFrame`](https://geopandas.org/en/stable/docs/reference/api/geopandas.GeoDataFrame.html). This dataset contains information regarding airbnb rentals, socioeconomics, and crime in Chicago.\n",
    "This time we are lucky and the data is directly provided in the geographic coordinate reference system (longitude/latitude) and no coordinate transformation is needed."
   ]
  },
  {
   "cell_type": "code",
   "execution_count": null,
   "id": "81facdc5-a644-4327-9cb1-7542c4d0d73f",
   "metadata": {},
   "outputs": [],
   "source": [
    "gdf_airbnb = gpd.read_file(\"https://geodacenter.github.io/data-and-lab/data/airbnb.zip\")\n",
    "gdf_airbnb.head()"
   ]
  },
  {
   "cell_type": "markdown",
   "id": "9f6f0cab-9588-4b32-bd8e-2fbd4f626ef6",
   "metadata": {},
   "source": [
    "#### 2.2.2 Create a choropleth map\n",
    "\n",
    "Here we are going to create a so-called **choropleth map**. Such a visualization is helpful to show a quantity which vary between subregions of a study area, e.g., countries or states. The dataset contains several columns, here we will focus on the column ``\"population\"``, but feel free to modify the code below and use another quantity for the color-coding!"
   ]
  },
  {
   "cell_type": "code",
   "execution_count": null,
   "id": "4e07f091-7018-4609-9e75-d40400e18181",
   "metadata": {},
   "outputs": [],
   "source": [
    "popul_min = gdf_airbnb[\"population\"].min()\n",
    "print(popul_min)\n",
    "popul_max = gdf_airbnb[\"population\"].max()\n",
    "print(popul_max)"
   ]
  },
  {
   "cell_type": "code",
   "execution_count": null,
   "id": "f10895a2-67c6-41e1-b33b-627e391f2f9c",
   "metadata": {},
   "outputs": [],
   "source": [
    "fig = pygmt.Figure()\n",
    "\n",
    "# frame=True adds a frame using the default settings\n",
    "# Use \"rltb\" (right, left, top, bottom) to plot no frame at all which\n",
    "# can be useful when inserting the figure within a document\n",
    "fig.basemap(region=[-88, -87.5, 41.62, 42.05], projection=\"M10c\", frame=True)\n",
    "\n",
    "# Set up colormap\n",
    "pygmt.makecpt(cmap=\"SCM/bilbao\", series=[popul_min, popul_max, 10])\n",
    "# Add vertical colorbar at left side\n",
    "fig.colorbar(frame=\"x+lpopulation\", position=\"jLM+v\")\n",
    "\n",
    "# Plot the polygons with color-coding for the population\n",
    "fig.plot(\n",
    "    data=gdf_airbnb,\n",
    "    pen=\"0.2p,gray10\",\n",
    "    fill=\"+z\",\n",
    "    cmap=True,\n",
    "    aspatial=\"Z=population\",\n",
    ")\n",
    "\n",
    "fig.show(dpi=img_dpi)"
   ]
  },
  {
   "cell_type": "markdown",
   "id": "03516fe8-5013-4acb-89d1-a1ebdbc1d426",
   "metadata": {},
   "source": [
    "## 3️⃣  Additional comments\n",
    "\n",
    "Some helpful and interesting aspects:\n",
    "\n",
    "- Use suitable colormaps for your data: [**Scientific colourmaps by Fabio Crameri**](https://www.fabiocrameri.ch/colourmaps/), see also the publications [Crameri et al. 2024](https://doi.org/10.1002/cpz1.1126) and [Crameri et al. 2020](https://doi.org/10.1038/s41467-020-19160-7)\n",
    "- Datasets provided by `GeoPandas`: Checkout the [**geodatasets**](https://geodatasets.readthedocs.io) library\n",
    "- Convert other objects to `pandas` or `GeoPandas` objects to make them usable in `PyGMT`: For example, convert [**OSMnx**](https://osmnx.readthedocs.io)'s `MultiDiGraph` to a `geopandas.DataFrame`\n",
    "- Create more complex geometries: Combine `GeoPandas` with [**shapely**](https://shapely.readthedocs.io) (i.e., `from shapely.geometry import Polygon`)\n",
    "- Support of OGR formats: Use [`geopandas.read_file`](https://geopandas.org/en/v1.0.1/docs/reference/api/geopandas.read_file.html) to load data provided as shapefile (.shp), GeoJSON (.geojson), geopackage (.gpkg), etc."
   ]
  },
  {
   "cell_type": "markdown",
   "id": "9e7abfa1-13ac-4bed-896d-4e55438f1f94",
   "metadata": {},
   "source": [
    "## 4️⃣ Orientation / suggestion for \"2.1.4 Plot the rivers with color-coding for the river length\"\n",
    "\n",
    "Below you find a rough code shipset for plotting the rives with color-coding in section 2.1.4."
   ]
  },
  {
   "cell_type": "code",
   "execution_count": null,
   "id": "1b11d21b-e46e-4b34-9319-5aafb036552f",
   "metadata": {},
   "outputs": [],
   "source": [
    "fig = pygmt.Figure()\n",
    "\n",
    "fig.coast(\n",
    "    projection=\"M10c\",\n",
    "    region=[-10, 35, 35, 58],\n",
    "    land=\"gray99\",\n",
    "    shorelines=\"1/0.1p,gray50\",\n",
    "    frame=True,\n",
    ")\n",
    "\n",
    "pygmt.makecpt(\n",
    "    cmap=\"SCM/oslo\", series=[gpd_rivers.Shape_Leng.min(), 1500000], reverse=True\n",
    ")\n",
    "fig.colorbar(frame=[\"x+lriver length\", \"y+lm\"], position=\"+ef0.2c\")\n",
    "\n",
    "for i_river in range(len(gpd_rivers)):\n",
    "    fig.plot(\n",
    "        data=gpd_rivers[gpd_rivers.index == i_river],\n",
    "        zvalue=gpd_rivers.loc[i_river, \"Shape_Leng\"],\n",
    "        pen=\"0.5p\",\n",
    "        cmap=True,\n",
    "    )\n",
    "\n",
    "fig.show(dpi=img_dpi)"
   ]
  }
 ],
 "metadata": {
  "kernelspec": {
   "display_name": "Python 3 (ipykernel)",
   "language": "python",
   "name": "python3"
  },
  "language_info": {
   "codemirror_mode": {
    "name": "ipython",
    "version": 3
   },
   "file_extension": ".py",
   "mimetype": "text/x-python",
   "name": "python",
   "nbconvert_exporter": "python",
   "pygments_lexer": "ipython3",
   "version": "3.12.7"
  }
 },
 "nbformat": 4,
 "nbformat_minor": 5
}
